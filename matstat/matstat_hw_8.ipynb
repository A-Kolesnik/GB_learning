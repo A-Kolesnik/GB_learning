{
 "cells": [
  {
   "cell_type": "markdown",
   "id": "05f6ed3f",
   "metadata": {},
   "source": [
    "Из колоды в 52 карты извлекаются случайным образом 4 карты.  \n",
    "a) Найти вероятность того, что все карты – крести.  \n",
    "б) Найти вероятность, что среди 4-х карт окажется хотя бы один туз."
   ]
  },
  {
   "cell_type": "code",
   "execution_count": 1,
   "id": "00a1b414",
   "metadata": {},
   "outputs": [
    {
     "name": "stdout",
     "output_type": "stream",
     "text": [
      "Task_1_a: 0.0026410564225690276\n",
      "Task_1_b: 0.2812632745405854\n"
     ]
    }
   ],
   "source": [
    "import math\n",
    "\n",
    "def combination(n: int, k: int):\n",
    "    return math.factorial(n)/(math.factorial(k)*math.factorial(n-k))\n",
    "\n",
    "def func_1_a(num_cards: int):\n",
    "    enter_num_cards = 4\n",
    "    all_success_value = 13\n",
    "    \n",
    "    proba = combination(all_success_value, enter_num_cards) / combination(num_cards, enter_num_cards)\n",
    "    return proba\n",
    "\n",
    "def func_1_b(num_cards: int):\n",
    "    proba_without_ace = combination(num_cards-4, 4) / combination(num_cards, 4)\n",
    "    return 1- proba_without_ace\n",
    "\n",
    "print(f\"Task_1_a: {func_1_a(52)}\")\n",
    "print(f\"Task_1_b: {func_1_b(52)}\")"
   ]
  },
  {
   "cell_type": "markdown",
   "id": "211ef10a",
   "metadata": {},
   "source": [
    "На входной двери подъезда установлен кодовый замок, содержащий десять кнопок с цифрами от 0 до 9. Код содержит три цифры, которые нужно нажать одновременно.  \n",
    "Какова вероятность того, что человек, не знающий код, откроет дверь с первой попытки?"
   ]
  },
  {
   "cell_type": "code",
   "execution_count": 2,
   "id": "b66bd1b8",
   "metadata": {},
   "outputs": [
    {
     "data": {
      "text/plain": [
       "0.008333333333333333"
      ]
     },
     "execution_count": 2,
     "metadata": {},
     "output_type": "execute_result"
    }
   ],
   "source": [
    "def accommodation(n: int, k: int):\n",
    "    return (math.factorial(n)/(math.factorial(k)*(math.factorial(n-k))))\n",
    "\n",
    "proba = 1 / accommodation(10, 3)\n",
    "proba"
   ]
  },
  {
   "cell_type": "markdown",
   "id": "b4abff76",
   "metadata": {},
   "source": [
    "В ящике имеется 15 деталей, из которых 9 окрашены.  \n",
    "Рабочий случайным образом извлекает 3 детали.  \n",
    "Какова вероятность того, что все извлеченные детали окрашены?"
   ]
  },
  {
   "cell_type": "code",
   "execution_count": 5,
   "id": "3e898149",
   "metadata": {},
   "outputs": [
    {
     "data": {
      "text/plain": [
       "0.1846153846153846"
      ]
     },
     "execution_count": 5,
     "metadata": {},
     "output_type": "execute_result"
    }
   ],
   "source": [
    "proba = 9/15 * 8/14 * 7/13\n",
    "proba"
   ]
  },
  {
   "cell_type": "markdown",
   "id": "60bf1fcf",
   "metadata": {},
   "source": [
    "В лотерее 100 билетов. Из них 2 выигрышных.  \n",
    "Какова вероятность того, что 2 приобретенных билета окажутся выигрышными?"
   ]
  },
  {
   "cell_type": "code",
   "execution_count": 6,
   "id": "161616c6",
   "metadata": {},
   "outputs": [
    {
     "data": {
      "text/plain": [
       "0.00020202020202020202"
      ]
     },
     "execution_count": 6,
     "metadata": {},
     "output_type": "execute_result"
    }
   ],
   "source": [
    "proba = 1/combination(100,2)\n",
    "proba"
   ]
  },
  {
   "cell_type": "markdown",
   "id": "de2003cf",
   "metadata": {},
   "source": [
    "На соревновании по биатлону один из трех спортсменов стреляет и попадает в мишень.  \n",
    "Вероятность попадания для первого спортсмена равна 0.9, для второго — 0.8, для третьего — 0.6.  \n",
    "Найти вероятность того, что выстрел произведен: a). первым спортсменом б). вторым спортсменом в). третьим спортсменом."
   ]
  },
  {
   "cell_type": "code",
   "execution_count": 7,
   "id": "f89768cf",
   "metadata": {},
   "outputs": [
    {
     "name": "stdout",
     "output_type": "stream",
     "text": [
      "Вероятность выстрела первым спортсменом: 0.391304347826087\n",
      "Вероятность выстрела вторым спортсменом: 0.3478260869565218\n",
      "Вероятность выстрела третьим спортсменом: 0.2608695652173913\n",
      "\n"
     ]
    }
   ],
   "source": [
    "proba_1 = proba_2 = proba_3 = 1/3\n",
    "\n",
    "#вероятность попадания спортсмена 1\n",
    "proba_success_1 = 0.9\n",
    "#вероятность попадания спортсмена 2\n",
    "proba_success_2 = 0.8\n",
    "#вероятность попадания спортсмена 3\n",
    "proba_success_3 = 0.6\n",
    "\n",
    "#полная вероятность\n",
    "proba_full_a = proba_1*proba_success_1 + proba_2*proba_success_2 + proba_3*proba_success_3\n",
    "\n",
    "# Применяем формулу Байеса\n",
    "\n",
    "#a\n",
    "proba_a = (proba_1*proba_success_1)/proba_full_a\n",
    "\n",
    "#b\n",
    "proba_b = (proba_2*proba_success_2)/proba_full_a\n",
    "\n",
    "#b\n",
    "proba_c = (proba_3*proba_success_3)/proba_full_a\n",
    "\n",
    "print(f\"Вероятность выстрела первым спортсменом: {proba_a}\\nВероятность выстрела вторым спортсменом: {proba_b}\\nВероятность выстрела третьим спортсменом: {proba_c}\\n\")"
   ]
  },
  {
   "cell_type": "code",
   "execution_count": null,
   "id": "34d72664",
   "metadata": {},
   "outputs": [],
   "source": []
  }
 ],
 "metadata": {
  "kernelspec": {
   "display_name": "Python 3",
   "language": "python",
   "name": "python3"
  },
  "language_info": {
   "codemirror_mode": {
    "name": "ipython",
    "version": 3
   },
   "file_extension": ".py",
   "mimetype": "text/x-python",
   "name": "python",
   "nbconvert_exporter": "python",
   "pygments_lexer": "ipython3",
   "version": "3.8.8"
  }
 },
 "nbformat": 4,
 "nbformat_minor": 5
}
