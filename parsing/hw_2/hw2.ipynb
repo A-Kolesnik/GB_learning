{
 "cells": [
  {
   "cell_type": "markdown",
   "id": "a7091f1e",
   "metadata": {},
   "source": [
    "Написать приложение и функцию, которые собирают основные новости с сайта на выбор dzen.ru, lenta.ru, mail.ru . Для парсинга использовать XPath\n",
    "Структура данных должна содержать:\n",
    "* название источника\n",
    "* наименование новости\n",
    "* ссылку на новость\n",
    "* дата публикации\n",
    "\n",
    "минимум один сайт максимум все\n",
    "\n",
    "Задание считается выполненным, если:\n",
    "- код задокументирован, парсер работает корректно\n",
    "- репозиторий в github имеет readme.md с описанием и структурой проекта (если сдача github, gitlab )\n",
    "- есть скриншоты результата выполнения задания\n",
    "\n",
    "ДЗ принимается ссылками на github, gitlab, colab"
   ]
  },
  {
   "cell_type": "markdown",
   "id": "d6f8538d",
   "metadata": {},
   "source": [
    "## Подключение необходимых библиотек"
   ]
  },
  {
   "cell_type": "code",
   "execution_count": 44,
   "id": "b36a9bd6",
   "metadata": {},
   "outputs": [],
   "source": [
    "import pandas as pd\n",
    "import requests\n",
    "from lxml import html\n",
    "import os"
   ]
  },
  {
   "cell_type": "markdown",
   "id": "954dfd2f",
   "metadata": {},
   "source": [
    "## Объявление и инициализация констант"
   ]
  },
  {
   "cell_type": "code",
   "execution_count": 22,
   "id": "e052a306",
   "metadata": {},
   "outputs": [],
   "source": [
    "REQUIRED_SITE_NEWS_DZEN_URL = \"https://lenta.ru\"\n",
    "REQUIRE_HEADER = {\n",
    "    \"User-Agent\": \"Mozilla/5.0 (Windows NT 10.0; Win64; x64; rv:109.0) Gecko/20100101 Firefox/110.0\"\n",
    "}"
   ]
  },
  {
   "cell_type": "code",
   "execution_count": 23,
   "id": "9ad78b27",
   "metadata": {},
   "outputs": [],
   "source": [
    "def get_page_content(url, header):\n",
    "    '''\n",
    "    Формирование контента страницы в виде строки\n",
    "    '''\n",
    "    page_data = requests.get(url, header)\n",
    "    \n",
    "    if not page_data.ok:\n",
    "        raise Exception(page_data.status_code)\n",
    "    \n",
    "    return page_data.text"
   ]
  },
  {
   "cell_type": "code",
   "execution_count": 37,
   "id": "a0cade5b",
   "metadata": {},
   "outputs": [],
   "source": [
    "def get_all_records(dom_obj):\n",
    "    'Формирование списка всех важных новостей'\n",
    "    return dom_obj.xpath(\"//div[@class='last24']/a\")"
   ]
  },
  {
   "cell_type": "code",
   "execution_count": 41,
   "id": "095f8776",
   "metadata": {},
   "outputs": [],
   "source": [
    "def get_links(all_records):\n",
    "    links = []\n",
    "    for record in all_records:\n",
    "        links.append(record.xpath('@href')[0])\n",
    "    return links"
   ]
  },
  {
   "cell_type": "markdown",
   "id": "275572a4",
   "metadata": {},
   "source": [
    "## Представление страницы в виде строки"
   ]
  },
  {
   "cell_type": "code",
   "execution_count": 30,
   "id": "5efff712",
   "metadata": {},
   "outputs": [],
   "source": [
    "page_data = get_page_content(REQUIRED_SITE_NEWS_DZEN_URL, REQUIRE_HEADER)"
   ]
  },
  {
   "cell_type": "markdown",
   "id": "1bdd2404",
   "metadata": {},
   "source": [
    "## Преобразование полученной строки к DOM-объекту"
   ]
  },
  {
   "cell_type": "code",
   "execution_count": 31,
   "id": "90e857cc",
   "metadata": {},
   "outputs": [],
   "source": [
    "page_dom = html.fromstring(page_data)"
   ]
  },
  {
   "cell_type": "markdown",
   "id": "5d42d688",
   "metadata": {},
   "source": [
    "## Поиск требуемых данных"
   ]
  },
  {
   "cell_type": "code",
   "execution_count": 38,
   "id": "1812fb32",
   "metadata": {},
   "outputs": [],
   "source": [
    "all_records = get_all_records(page_dom)"
   ]
  },
  {
   "cell_type": "code",
   "execution_count": 42,
   "id": "a911a539",
   "metadata": {},
   "outputs": [],
   "source": [
    "links = get_links(all_records)"
   ]
  },
  {
   "cell_type": "code",
   "execution_count": 47,
   "id": "b3176b46",
   "metadata": {},
   "outputs": [],
   "source": [
    "links = list(map(lambda link: os.path.join(REQUIRED_SITE_NEWS_DZEN_URL, link), links))"
   ]
  },
  {
   "cell_type": "code",
   "execution_count": 48,
   "id": "398fd569",
   "metadata": {},
   "outputs": [
    {
     "data": {
      "text/plain": [
       "['/news/2023/02/17/voennye_okruga/',\n",
       " '/news/2023/02/17/nemovv/',\n",
       " '/news/2023/02/17/minobr/',\n",
       " '/news/2023/02/17/kovtunn/',\n",
       " '/news/2023/02/17/bplabryansk/',\n",
       " '/news/2023/02/17/fsbbb/',\n",
       " '/news/2023/02/17/bpla/',\n",
       " '/news/2023/02/17/posolstvo_nuland/']"
      ]
     },
     "execution_count": 48,
     "metadata": {},
     "output_type": "execute_result"
    }
   ],
   "source": [
    "links"
   ]
  },
  {
   "cell_type": "code",
   "execution_count": null,
   "id": "6e958b59",
   "metadata": {},
   "outputs": [],
   "source": []
  }
 ],
 "metadata": {
  "kernelspec": {
   "display_name": "Python 3",
   "language": "python",
   "name": "python3"
  },
  "language_info": {
   "codemirror_mode": {
    "name": "ipython",
    "version": 3
   },
   "file_extension": ".py",
   "mimetype": "text/x-python",
   "name": "python",
   "nbconvert_exporter": "python",
   "pygments_lexer": "ipython3",
   "version": "3.8.8"
  }
 },
 "nbformat": 4,
 "nbformat_minor": 5
}
