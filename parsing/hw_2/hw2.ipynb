{
 "cells": [
  {
   "cell_type": "markdown",
   "id": "9c11afe2",
   "metadata": {},
   "source": [
    "Написать приложение и функцию, которые собирают основные новости с сайта на выбор dzen.ru, lenta.ru, mail.ru . Для парсинга использовать XPath\n",
    "Структура данных должна содержать:\n",
    "* название источника\n",
    "* наименование новости\n",
    "* ссылку на новость\n",
    "* дата публикации\n",
    "\n",
    "минимум один сайт максимум все\n",
    "\n",
    "Задание считается выполненным, если:\n",
    "- код задокументирован, парсер работает корректно\n",
    "- репозиторий в github имеет readme.md с описанием и структурой проекта (если сдача github, gitlab )\n",
    "- есть скриншоты результата выполнения задания\n",
    "\n",
    "ДЗ принимается ссылками на github, gitlab, colab"
   ]
  },
  {
   "cell_type": "markdown",
   "id": "33e660b0",
   "metadata": {},
   "source": [
    "## Подключение необходимых библиотек"
   ]
  },
  {
   "cell_type": "code",
   "execution_count": 1,
   "id": "b2af6e75",
   "metadata": {},
   "outputs": [],
   "source": [
    "import pandas as pd\n",
    "import requests\n",
    "from lxml import html\n",
    "import os"
   ]
  },
  {
   "cell_type": "markdown",
   "id": "b4c2d42e",
   "metadata": {},
   "source": [
    "## Объявление и инициализация констант"
   ]
  },
  {
   "cell_type": "code",
   "execution_count": 40,
   "id": "868e8e9b",
   "metadata": {},
   "outputs": [],
   "source": [
    "REQUIRED_SITE_NEWS_DZEN_URL = \"https://lenta.ru\"\n",
    "REQUIRE_HEADER = {\n",
    "    \"User-Agent\": \"Mozilla/5.0 (Windows NT 10.0; Win64; x64; rv:109.0) Gecko/20100101 Firefox/110.0\"\n",
    "}"
   ]
  },
  {
   "cell_type": "code",
   "execution_count": 41,
   "id": "8e83c6b4",
   "metadata": {},
   "outputs": [],
   "source": [
    "def get_page_content(url, header):\n",
    "    '''\n",
    "    Формирование контента страницы в виде строки\n",
    "    '''\n",
    "    page_data = requests.get(url, header)\n",
    "    \n",
    "    if not page_data.ok:\n",
    "        raise Exception(page_data.status_code)\n",
    "    \n",
    "    return page_data.text"
   ]
  },
  {
   "cell_type": "code",
   "execution_count": 42,
   "id": "370c1780",
   "metadata": {},
   "outputs": [],
   "source": [
    "def get_all_records(dom_obj):\n",
    "    'Формирование списка всех важных новостей'\n",
    "    return dom_obj.xpath(\"//div[@class='last24']/a\")"
   ]
  },
  {
   "cell_type": "code",
   "execution_count": 43,
   "id": "5d47d23e",
   "metadata": {},
   "outputs": [],
   "source": [
    "def get_links(all_records: list):\n",
    "    '''\n",
    "    Поиск ссылок на новости\n",
    "    '''\n",
    "    links = []\n",
    "    for record in all_records:\n",
    "        links.append(record.xpath('@href')[0])\n",
    "    return links"
   ]
  },
  {
   "cell_type": "code",
   "execution_count": 44,
   "id": "fd31cf4b",
   "metadata": {},
   "outputs": [],
   "source": [
    "def get_dates(links: list, url_site: str):\n",
    "    '''\n",
    "    Определение дат публикации\n",
    "    '''\n",
    "    dates_public = []\n",
    "    \n",
    "    for link in links:\n",
    "        dates_public.append('-'.join(link.split(url_site)[-1].split('/')[2:5]))\n",
    "    \n",
    "    return dates_public"
   ]
  },
  {
   "cell_type": "code",
   "execution_count": 45,
   "id": "4321aecb",
   "metadata": {},
   "outputs": [],
   "source": [
    "def get_news_title(all_records):\n",
    "    '''\n",
    "    Определение заголовков новостей\n",
    "    '''\n",
    "\n",
    "    news_title = list(\n",
    "        map(\n",
    "            lambda news: news.xpath(\"./div[@class='card-mini__text']/span[@class='card-mini__title']\")[0].text,\n",
    "            all_records\n",
    "        )\n",
    "    )\n",
    "    return news_title\n",
    "    \n",
    "    "
   ]
  },
  {
   "cell_type": "code",
   "execution_count": 46,
   "id": "93e36748",
   "metadata": {},
   "outputs": [],
   "source": [
    "def get_parsing_result_table(page_dom, url_site_news) -> pd.DataFrame:\n",
    "    all_records = get_all_records(page_dom)\n",
    "    \n",
    "    '''\n",
    "    Формирование ссылок на новости\n",
    "    '''\n",
    "    links = list(map(lambda link: f\"{REQUIRED_SITE_NEWS_DZEN_URL}{link}\", get_links(all_records)))\n",
    "    \n",
    "    '''\n",
    "    Поскольку на странице нет компоненита, содержащего\n",
    "    дату, получим ее из ссылок\n",
    "    '''\n",
    "    dates_public = get_dates(links, url_site_news)\n",
    "    \n",
    "    '''\n",
    "    Извлечение заголовков новостей\n",
    "    '''\n",
    "    news_title = get_news_title(all_records)\n",
    "    \n",
    "    return pd.DataFrame(\n",
    "        {\n",
    "            \"Наименование новости\": news_title,\n",
    "            \"Ссылка на новость\": links,\n",
    "            \"Дата публикации\": dates_public,\n",
    "        }\n",
    "    )\n",
    "    "
   ]
  },
  {
   "cell_type": "markdown",
   "id": "24528105",
   "metadata": {},
   "source": [
    "## Представление страницы в виде строки"
   ]
  },
  {
   "cell_type": "code",
   "execution_count": 47,
   "id": "db6c3b4b",
   "metadata": {},
   "outputs": [],
   "source": [
    "page_data = get_page_content(REQUIRED_SITE_NEWS_DZEN_URL, REQUIRE_HEADER)"
   ]
  },
  {
   "cell_type": "markdown",
   "id": "84575b53",
   "metadata": {},
   "source": [
    "## Преобразование полученной строки к DOM-объекту"
   ]
  },
  {
   "cell_type": "code",
   "execution_count": 48,
   "id": "e7a7718f",
   "metadata": {},
   "outputs": [],
   "source": [
    "page_dom = html.fromstring(page_data)"
   ]
  },
  {
   "cell_type": "markdown",
   "id": "2b1d788a",
   "metadata": {},
   "source": [
    "## Поиск требуемых данных"
   ]
  },
  {
   "cell_type": "code",
   "execution_count": 49,
   "id": "00fa8e13",
   "metadata": {},
   "outputs": [],
   "source": [
    "parse_result = get_parsing_result_table(\n",
    "    page_dom,\n",
    "    REQUIRED_SITE_NEWS_DZEN_URL\n",
    ")"
   ]
  },
  {
   "cell_type": "code",
   "execution_count": 50,
   "id": "8b463494",
   "metadata": {},
   "outputs": [
    {
     "data": {
      "text/html": [
       "<div>\n",
       "<style scoped>\n",
       "    .dataframe tbody tr th:only-of-type {\n",
       "        vertical-align: middle;\n",
       "    }\n",
       "\n",
       "    .dataframe tbody tr th {\n",
       "        vertical-align: top;\n",
       "    }\n",
       "\n",
       "    .dataframe thead th {\n",
       "        text-align: right;\n",
       "    }\n",
       "</style>\n",
       "<table border=\"1\" class=\"dataframe\">\n",
       "  <thead>\n",
       "    <tr style=\"text-align: right;\">\n",
       "      <th></th>\n",
       "      <th>Наименование новости</th>\n",
       "      <th>Ссылка на новость</th>\n",
       "      <th>Дата публикации</th>\n",
       "    </tr>\n",
       "  </thead>\n",
       "  <tbody>\n",
       "    <tr>\n",
       "      <th>0</th>\n",
       "      <td>Врачи озвучили версии развития тяжелого состоя...</td>\n",
       "      <td>https://lenta.ru/news/2023/02/18/vrachi/</td>\n",
       "      <td>2023-02-18</td>\n",
       "    </tr>\n",
       "    <tr>\n",
       "      <th>1</th>\n",
       "      <td>Журналист Херш усомнился в признании США вины ...</td>\n",
       "      <td>https://lenta.ru/news/2023/02/18/nord_stream/</td>\n",
       "      <td>2023-02-18</td>\n",
       "    </tr>\n",
       "    <tr>\n",
       "      <th>2</th>\n",
       "      <td>В МИД ответили на призыв Китая прекратить огон...</td>\n",
       "      <td>https://lenta.ru/news/2023/02/18/zaxarova_ukra...</td>\n",
       "      <td>2023-02-18</td>\n",
       "    </tr>\n",
       "    <tr>\n",
       "      <th>3</th>\n",
       "      <td>Раскрыты подробности о заседании Совбеза ООН п...</td>\n",
       "      <td>https://lenta.ru/news/2023/02/18/hersh/</td>\n",
       "      <td>2023-02-18</td>\n",
       "    </tr>\n",
       "    <tr>\n",
       "      <th>4</th>\n",
       "      <td>Американский офицер предрек Зеленскому судьбу ...</td>\n",
       "      <td>https://lenta.ru/news/2023/02/17/hitler/</td>\n",
       "      <td>2023-02-17</td>\n",
       "    </tr>\n",
       "    <tr>\n",
       "      <th>5</th>\n",
       "      <td>Зеленский заверил в скором снятии табу на пост...</td>\n",
       "      <td>https://lenta.ru/news/2023/02/17/missiles/</td>\n",
       "      <td>2023-02-17</td>\n",
       "    </tr>\n",
       "    <tr>\n",
       "      <th>6</th>\n",
       "      <td>Путин разрешил купить долю европейского нефтян...</td>\n",
       "      <td>https://lenta.ru/news/2023/02/17/putin_shell/</td>\n",
       "      <td>2023-02-17</td>\n",
       "    </tr>\n",
       "    <tr>\n",
       "      <th>7</th>\n",
       "      <td>Французы раскритиковали слова Макрона о невозм...</td>\n",
       "      <td>https://lenta.ru/news/2023/02/17/francuzi/</td>\n",
       "      <td>2023-02-17</td>\n",
       "    </tr>\n",
       "    <tr>\n",
       "      <th>8</th>\n",
       "      <td>Спецназ в Москве задержал удерживавшего заложн...</td>\n",
       "      <td>https://lenta.ru/news/2023/02/17/moskk_/</td>\n",
       "      <td>2023-02-17</td>\n",
       "    </tr>\n",
       "    <tr>\n",
       "      <th>9</th>\n",
       "      <td>В России за полгода сменили командующих четыре...</td>\n",
       "      <td>https://lenta.ru/news/2023/02/17/voennye_okruga/</td>\n",
       "      <td>2023-02-17</td>\n",
       "    </tr>\n",
       "  </tbody>\n",
       "</table>\n",
       "</div>"
      ],
      "text/plain": [
       "                                Наименование новости  \\\n",
       "0  Врачи озвучили версии развития тяжелого состоя...   \n",
       "1  Журналист Херш усомнился в признании США вины ...   \n",
       "2  В МИД ответили на призыв Китая прекратить огон...   \n",
       "3  Раскрыты подробности о заседании Совбеза ООН п...   \n",
       "4  Американский офицер предрек Зеленскому судьбу ...   \n",
       "5  Зеленский заверил в скором снятии табу на пост...   \n",
       "6  Путин разрешил купить долю европейского нефтян...   \n",
       "7  Французы раскритиковали слова Макрона о невозм...   \n",
       "8  Спецназ в Москве задержал удерживавшего заложн...   \n",
       "9  В России за полгода сменили командующих четыре...   \n",
       "\n",
       "                                   Ссылка на новость Дата публикации  \n",
       "0           https://lenta.ru/news/2023/02/18/vrachi/      2023-02-18  \n",
       "1      https://lenta.ru/news/2023/02/18/nord_stream/      2023-02-18  \n",
       "2  https://lenta.ru/news/2023/02/18/zaxarova_ukra...      2023-02-18  \n",
       "3            https://lenta.ru/news/2023/02/18/hersh/      2023-02-18  \n",
       "4           https://lenta.ru/news/2023/02/17/hitler/      2023-02-17  \n",
       "5         https://lenta.ru/news/2023/02/17/missiles/      2023-02-17  \n",
       "6      https://lenta.ru/news/2023/02/17/putin_shell/      2023-02-17  \n",
       "7         https://lenta.ru/news/2023/02/17/francuzi/      2023-02-17  \n",
       "8           https://lenta.ru/news/2023/02/17/moskk_/      2023-02-17  \n",
       "9   https://lenta.ru/news/2023/02/17/voennye_okruga/      2023-02-17  "
      ]
     },
     "execution_count": 50,
     "metadata": {},
     "output_type": "execute_result"
    }
   ],
   "source": [
    "parse_result"
   ]
  },
  {
   "cell_type": "code",
   "execution_count": null,
   "id": "f1c0cbd0",
   "metadata": {},
   "outputs": [],
   "source": []
  }
 ],
 "metadata": {
  "kernelspec": {
   "display_name": "Python 3",
   "language": "python",
   "name": "python3"
  },
  "language_info": {
   "codemirror_mode": {
    "name": "ipython",
    "version": 3
   },
   "file_extension": ".py",
   "mimetype": "text/x-python",
   "name": "python",
   "nbconvert_exporter": "python",
   "pygments_lexer": "ipython3",
   "version": "3.8.8"
  }
 },
 "nbformat": 4,
 "nbformat_minor": 5
}
