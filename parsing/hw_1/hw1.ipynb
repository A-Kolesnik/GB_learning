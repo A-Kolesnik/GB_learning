{
 "cells": [
  {
   "cell_type": "markdown",
   "id": "93f688ec",
   "metadata": {},
   "source": [
    "## Задание 1"
   ]
  },
  {
   "cell_type": "code",
   "execution_count": 22,
   "id": "778e4647",
   "metadata": {},
   "outputs": [],
   "source": [
    "import requests\n",
    "import json\n",
    "import os"
   ]
  },
  {
   "cell_type": "code",
   "execution_count": 44,
   "id": "700e80d8",
   "metadata": {},
   "outputs": [],
   "source": [
    "def get_users_token()->str:\n",
    "    return input(\"Укажите Ваш токен: \")\n",
    "\n",
    "def get_github_users_name()->str:\n",
    "    return input(\"Укажите имя пользователя: \")\n",
    "\n",
    "def get_path_result_file()->str:\n",
    "    return input(\"Укажите путь к файлу, в которорый необходимо сохранить результат: \")\n",
    "\n",
    "def do_requests(user_name: str, users_token)->list:\n",
    "    header = {\n",
    "        \"Accept\": \"application/vnd.github+json\",\n",
    "        \"Authorization\": f\"Bearer {users_token}\",\n",
    "        \"X-GitHub-Api-Version\": \"2022-11-28\"\n",
    "    }\n",
    "    return requests.get(f\"https://api.github.com/users/{user_name}/repos\")\n",
    "\n",
    "def write_result(path_file_result: str, result: list):\n",
    "    with open(path_file_result, 'a') as g_file:\n",
    "        for _doc in result.json():\n",
    "            g_file.write(f\"{_doc['name']}\\n\")"
   ]
  },
  {
   "cell_type": "code",
   "execution_count": 47,
   "id": "03cdeb37",
   "metadata": {},
   "outputs": [],
   "source": [
    "result = do_requests(\n",
    "    get_github_users_name(),\n",
    "    get_users_token()\n",
    ")"
   ]
  },
  {
   "cell_type": "code",
   "execution_count": 46,
   "id": "28069698",
   "metadata": {},
   "outputs": [],
   "source": [
    "if result.ok:\n",
    "    write_result(get_path_result_file(), result)\n",
    "    print(\"File writed success\")\n",
    "else:\n",
    "    print(f\"Status code: {result.status_code}\")"
   ]
  },
  {
   "cell_type": "markdown",
   "id": "e1bf116c",
   "metadata": {},
   "source": [
    "## Задание 2"
   ]
  },
  {
   "cell_type": "markdown",
   "id": "cc4b126d",
   "metadata": {},
   "source": [
    "Считаю, что задание 1 включает авторизацию. Авторизация с использованием токена."
   ]
  },
  {
   "cell_type": "code",
   "execution_count": null,
   "id": "9d69d010",
   "metadata": {},
   "outputs": [],
   "source": []
  }
 ],
 "metadata": {
  "kernelspec": {
   "display_name": "Python 3",
   "language": "python",
   "name": "python3"
  },
  "language_info": {
   "codemirror_mode": {
    "name": "ipython",
    "version": 3
   },
   "file_extension": ".py",
   "mimetype": "text/x-python",
   "name": "python",
   "nbconvert_exporter": "python",
   "pygments_lexer": "ipython3",
   "version": "3.8.8"
  }
 },
 "nbformat": 4,
 "nbformat_minor": 5
}
