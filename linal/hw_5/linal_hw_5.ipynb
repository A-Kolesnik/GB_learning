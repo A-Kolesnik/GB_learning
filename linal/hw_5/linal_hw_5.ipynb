{
 "cells": [
  {
   "cell_type": "markdown",
   "id": "8b03cd6f",
   "metadata": {},
   "source": [
    "# Найти с помощью NumPy SVD для матрицы\n"
   ]
  },
  {
   "cell_type": "code",
   "execution_count": 2,
   "id": "c03827c1",
   "metadata": {},
   "outputs": [],
   "source": [
    "import numpy as np"
   ]
  },
  {
   "cell_type": "code",
   "execution_count": 3,
   "id": "50857b02",
   "metadata": {},
   "outputs": [],
   "source": [
    "matrix = np.array([\n",
    "    [1,2,0],\n",
    "    [0,0,5],\n",
    "    [3,-4,2],\n",
    "    [1,6,5],\n",
    "    [0,1,0],\n",
    "])"
   ]
  },
  {
   "cell_type": "code",
   "execution_count": 7,
   "id": "92c10e1e",
   "metadata": {},
   "outputs": [
    {
     "data": {
      "text/plain": [
       "array([8.82486885, 6.14060608, 2.53271528])"
      ]
     },
     "execution_count": 7,
     "metadata": {},
     "output_type": "execute_result"
    }
   ],
   "source": [
    "## A = U*D*V^T\n",
    "\n",
    "U,s,W = np.linalg.svd(matrix)\n",
    "s"
   ]
  },
  {
   "cell_type": "code",
   "execution_count": 9,
   "id": "72e8af8c",
   "metadata": {},
   "outputs": [],
   "source": [
    "D = np.zeros_like(matrix, dtype=float)\n",
    "D[np.diag_indices(min(matrix.shape))] = s"
   ]
  },
  {
   "cell_type": "code",
   "execution_count": 10,
   "id": "639f8874",
   "metadata": {},
   "outputs": [],
   "source": [
    "V = W.T"
   ]
  },
  {
   "cell_type": "code",
   "execution_count": 11,
   "id": "6cb78ebe",
   "metadata": {},
   "outputs": [
    {
     "name": "stdout",
     "output_type": "stream",
     "text": [
      "U = [[ 0.17056501  0.15680918 -0.53077508 -0.79905375 -0.16158397]\n",
      " [ 0.39287016 -0.52933945  0.6134793  -0.43375771  0.03082495]\n",
      " [-0.14366152 -0.82449256 -0.52379105  0.14049848  0.07400343]\n",
      " [ 0.88843702  0.06074346 -0.24655277  0.37755832 -0.06042632]\n",
      " [ 0.08125046  0.10831843 -0.08231425 -0.10524851  0.98173958]]\n",
      "D = [[8.82486885 0.         0.        ]\n",
      " [0.         6.14060608 0.        ]\n",
      " [0.         0.         2.53271528]\n",
      " [0.         0.         0.        ]\n",
      " [0.         0.         0.        ]]\n",
      "V = [[ 0.07116451 -0.36737824 -0.92734505]\n",
      " [ 0.71702467  0.66514082 -0.20847855]\n",
      " [ 0.69340553 -0.65009301  0.31075368]]\n"
     ]
    }
   ],
   "source": [
    "print(f\"U = {U}\\nD = {D}\\nV = {V}\")"
   ]
  },
  {
   "cell_type": "code",
   "execution_count": 12,
   "id": "6315eac0",
   "metadata": {},
   "outputs": [],
   "source": [
    "A = U.dot(D.dot(V.T))"
   ]
  },
  {
   "cell_type": "code",
   "execution_count": 14,
   "id": "5044b055",
   "metadata": {},
   "outputs": [
    {
     "data": {
      "text/plain": [
       "array([[ 1.00000000e+00,  2.00000000e+00,  6.66133815e-16],\n",
       "       [ 1.11022302e-15, -2.22044605e-15,  5.00000000e+00],\n",
       "       [ 3.00000000e+00, -4.00000000e+00,  2.00000000e+00],\n",
       "       [ 1.00000000e+00,  6.00000000e+00,  5.00000000e+00],\n",
       "       [-1.11022302e-16,  1.00000000e+00,  0.00000000e+00]])"
      ]
     },
     "execution_count": 14,
     "metadata": {},
     "output_type": "execute_result"
    }
   ],
   "source": [
    "# Получаем исходную матрицу\n",
    "A"
   ]
  },
  {
   "cell_type": "markdown",
   "id": "b12c6c50",
   "metadata": {},
   "source": [
    "## \n",
    "\n",
    "##    Для матрицы из предыдущего задания найти:\n",
    "\n",
    "##    а) евклидову норму;\n",
    "\n",
    "##    б) норму Фробениуса.\n"
   ]
  },
  {
   "cell_type": "code",
   "execution_count": 16,
   "id": "8a392343",
   "metadata": {},
   "outputs": [
    {
     "data": {
      "text/plain": [
       "8.824868854820442"
      ]
     },
     "execution_count": 16,
     "metadata": {},
     "output_type": "execute_result"
    }
   ],
   "source": [
    "e_norm = s[0]\n",
    "e_norm"
   ]
  },
  {
   "cell_type": "code",
   "execution_count": 22,
   "id": "89106448",
   "metadata": {},
   "outputs": [
    {
     "data": {
      "text/plain": [
       "122.0"
      ]
     },
     "execution_count": 22,
     "metadata": {},
     "output_type": "execute_result"
    }
   ],
   "source": [
    "f_norm = (s*s).sum()\n",
    "f_norm"
   ]
  }
 ],
 "metadata": {
  "kernelspec": {
   "display_name": "Python 3",
   "language": "python",
   "name": "python3"
  },
  "language_info": {
   "codemirror_mode": {
    "name": "ipython",
    "version": 3
   },
   "file_extension": ".py",
   "mimetype": "text/x-python",
   "name": "python",
   "nbconvert_exporter": "python",
   "pygments_lexer": "ipython3",
   "version": "3.8.8"
  }
 },
 "nbformat": 4,
 "nbformat_minor": 5
}
