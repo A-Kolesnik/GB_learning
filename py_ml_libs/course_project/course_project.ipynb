{
 "cells": [
  {
   "cell_type": "markdown",
   "id": "86449bd1",
   "metadata": {},
   "source": [
    "# Импортирование необходимых модулей  \n",
    "---"
   ]
  },
  {
   "cell_type": "code",
   "execution_count": 96,
   "id": "eee09bb4",
   "metadata": {},
   "outputs": [],
   "source": [
    "import numpy as np\n",
    "import pandas as pd\n",
    "import warnings\n",
    "\n",
    "import seaborn as sb\n",
    "from matplotlib import pyplot as plt\n",
    "from sklearn.preprocessing import LabelEncoder\n",
    "from sklearn.model_selection import train_test_split\n",
    "from sklearn.ensemble import RandomForestRegressor\n",
    "from sklearn.model_selection import GridSearchCV\n",
    "from sklearn.metrics import r2_score\n",
    "warnings.filterwarnings('ignore')"
   ]
  },
  {
   "cell_type": "markdown",
   "id": "a4accd76",
   "metadata": {},
   "source": [
    "# Загрузка данных  \n",
    "---"
   ]
  },
  {
   "cell_type": "code",
   "execution_count": 97,
   "id": "16f9c08f",
   "metadata": {},
   "outputs": [],
   "source": [
    "\"\"\"\n",
    "Пути к файлам, содержащим тренирочный (PATH_TRAIN_DATASET)\n",
    "и тестовый (PATH_TEST_DATASET) датасеты\n",
    "\"\"\"\n",
    "\n",
    "PATH_TRAIN_DATASET = r'd:\\Обучение GeekBrains\\cp_src\\train.csv'\n",
    "PATH_TEST_DATASET = r'd:\\Обучение GeekBrains\\cp_src\\test.csv'\n",
    "\n",
    "FILE_FEATURES_SEP = ','"
   ]
  },
  {
   "cell_type": "code",
   "execution_count": 98,
   "id": "3afcc5e3",
   "metadata": {},
   "outputs": [],
   "source": [
    "\"\"\"\n",
    "Загружаем тренировочный и тестовый датасеты.\n",
    "Для загрузки используется функция read_csv(...)\n",
    "\"\"\"\n",
    "train_ds = pd.read_csv(\n",
    "    PATH_TRAIN_DATASET,\n",
    "    sep=FILE_FEATURES_SEP\n",
    ")\n",
    "\n",
    "test_ds = pd.read_csv(\n",
    "    PATH_TEST_DATASET,\n",
    "    sep=FILE_FEATURES_SEP\n",
    ")"
   ]
  },
  {
   "cell_type": "markdown",
   "id": "244d4c4f",
   "metadata": {},
   "source": [
    "# Первичный анализ датасета  \n",
    "---"
   ]
  },
  {
   "cell_type": "code",
   "execution_count": 99,
   "id": "ef2ad241",
   "metadata": {},
   "outputs": [
    {
     "name": "stdout",
     "output_type": "stream",
     "text": [
      "<class 'pandas.core.frame.DataFrame'>\n",
      "RangeIndex: 10000 entries, 0 to 9999\n",
      "Data columns (total 20 columns):\n",
      " #   Column         Non-Null Count  Dtype  \n",
      "---  ------         --------------  -----  \n",
      " 0   Id             10000 non-null  int64  \n",
      " 1   DistrictId     10000 non-null  int64  \n",
      " 2   Rooms          10000 non-null  float64\n",
      " 3   Square         10000 non-null  float64\n",
      " 4   LifeSquare     7887 non-null   float64\n",
      " 5   KitchenSquare  10000 non-null  float64\n",
      " 6   Floor          10000 non-null  int64  \n",
      " 7   HouseFloor     10000 non-null  float64\n",
      " 8   HouseYear      10000 non-null  int64  \n",
      " 9   Ecology_1      10000 non-null  float64\n",
      " 10  Ecology_2      10000 non-null  object \n",
      " 11  Ecology_3      10000 non-null  object \n",
      " 12  Social_1       10000 non-null  int64  \n",
      " 13  Social_2       10000 non-null  int64  \n",
      " 14  Social_3       10000 non-null  int64  \n",
      " 15  Healthcare_1   5202 non-null   float64\n",
      " 16  Helthcare_2    10000 non-null  int64  \n",
      " 17  Shops_1        10000 non-null  int64  \n",
      " 18  Shops_2        10000 non-null  object \n",
      " 19  Price          10000 non-null  float64\n",
      "dtypes: float64(8), int64(9), object(3)\n",
      "memory usage: 1.5+ MB\n"
     ]
    }
   ],
   "source": [
    "\"\"\"Количество объектов на старте анализа\"\"\"\n",
    "CNT_OBJ = train_ds.shape[0]\n",
    "\"\"\"Отобразим краткую информацию о датасете\"\"\"\n",
    "train_ds.info()"
   ]
  },
  {
   "cell_type": "markdown",
   "id": "b9f233cf",
   "metadata": {},
   "source": [
    "---  \n",
    "\n",
    "Описание наблюдений:\n",
    "1. Обнаружено два признака, в которых имеются пропуски\n",
    "    - LifeSquare\n",
    "    - Healthcare_1\n",
    "2. Датасет содержит признаки различного типа\n",
    "    - Количественные\n",
    "    - Категориальные"
   ]
  },
  {
   "cell_type": "code",
   "execution_count": 100,
   "id": "ec802d38",
   "metadata": {},
   "outputs": [
    {
     "data": {
      "text/html": [
       "<div>\n",
       "<style scoped>\n",
       "    .dataframe tbody tr th:only-of-type {\n",
       "        vertical-align: middle;\n",
       "    }\n",
       "\n",
       "    .dataframe tbody tr th {\n",
       "        vertical-align: top;\n",
       "    }\n",
       "\n",
       "    .dataframe thead th {\n",
       "        text-align: right;\n",
       "    }\n",
       "</style>\n",
       "<table border=\"1\" class=\"dataframe\">\n",
       "  <thead>\n",
       "    <tr style=\"text-align: right;\">\n",
       "      <th></th>\n",
       "      <th>count</th>\n",
       "      <th>mean</th>\n",
       "      <th>std</th>\n",
       "      <th>min</th>\n",
       "      <th>25%</th>\n",
       "      <th>50%</th>\n",
       "      <th>75%</th>\n",
       "      <th>max</th>\n",
       "    </tr>\n",
       "  </thead>\n",
       "  <tbody>\n",
       "    <tr>\n",
       "      <th>Id</th>\n",
       "      <td>10000.0</td>\n",
       "      <td>8383.407700</td>\n",
       "      <td>4859.019020</td>\n",
       "      <td>0.000000</td>\n",
       "      <td>4169.500000</td>\n",
       "      <td>8394.500000</td>\n",
       "      <td>12592.500000</td>\n",
       "      <td>1.679800e+04</td>\n",
       "    </tr>\n",
       "    <tr>\n",
       "      <th>DistrictId</th>\n",
       "      <td>10000.0</td>\n",
       "      <td>50.400800</td>\n",
       "      <td>43.587592</td>\n",
       "      <td>0.000000</td>\n",
       "      <td>20.000000</td>\n",
       "      <td>36.000000</td>\n",
       "      <td>75.000000</td>\n",
       "      <td>2.090000e+02</td>\n",
       "    </tr>\n",
       "    <tr>\n",
       "      <th>Rooms</th>\n",
       "      <td>10000.0</td>\n",
       "      <td>1.890500</td>\n",
       "      <td>0.839512</td>\n",
       "      <td>0.000000</td>\n",
       "      <td>1.000000</td>\n",
       "      <td>2.000000</td>\n",
       "      <td>2.000000</td>\n",
       "      <td>1.900000e+01</td>\n",
       "    </tr>\n",
       "    <tr>\n",
       "      <th>Square</th>\n",
       "      <td>10000.0</td>\n",
       "      <td>56.315775</td>\n",
       "      <td>21.058732</td>\n",
       "      <td>1.136859</td>\n",
       "      <td>41.774881</td>\n",
       "      <td>52.513310</td>\n",
       "      <td>65.900625</td>\n",
       "      <td>6.410652e+02</td>\n",
       "    </tr>\n",
       "    <tr>\n",
       "      <th>LifeSquare</th>\n",
       "      <td>7887.0</td>\n",
       "      <td>37.199645</td>\n",
       "      <td>86.241209</td>\n",
       "      <td>0.370619</td>\n",
       "      <td>22.769832</td>\n",
       "      <td>32.781260</td>\n",
       "      <td>45.128803</td>\n",
       "      <td>7.480592e+03</td>\n",
       "    </tr>\n",
       "    <tr>\n",
       "      <th>KitchenSquare</th>\n",
       "      <td>10000.0</td>\n",
       "      <td>6.273300</td>\n",
       "      <td>28.560917</td>\n",
       "      <td>0.000000</td>\n",
       "      <td>1.000000</td>\n",
       "      <td>6.000000</td>\n",
       "      <td>9.000000</td>\n",
       "      <td>2.014000e+03</td>\n",
       "    </tr>\n",
       "    <tr>\n",
       "      <th>Floor</th>\n",
       "      <td>10000.0</td>\n",
       "      <td>8.526700</td>\n",
       "      <td>5.241148</td>\n",
       "      <td>1.000000</td>\n",
       "      <td>4.000000</td>\n",
       "      <td>7.000000</td>\n",
       "      <td>12.000000</td>\n",
       "      <td>4.200000e+01</td>\n",
       "    </tr>\n",
       "    <tr>\n",
       "      <th>HouseFloor</th>\n",
       "      <td>10000.0</td>\n",
       "      <td>12.609400</td>\n",
       "      <td>6.775974</td>\n",
       "      <td>0.000000</td>\n",
       "      <td>9.000000</td>\n",
       "      <td>13.000000</td>\n",
       "      <td>17.000000</td>\n",
       "      <td>1.170000e+02</td>\n",
       "    </tr>\n",
       "    <tr>\n",
       "      <th>HouseYear</th>\n",
       "      <td>10000.0</td>\n",
       "      <td>3990.166300</td>\n",
       "      <td>200500.261427</td>\n",
       "      <td>1910.000000</td>\n",
       "      <td>1974.000000</td>\n",
       "      <td>1977.000000</td>\n",
       "      <td>2001.000000</td>\n",
       "      <td>2.005201e+07</td>\n",
       "    </tr>\n",
       "    <tr>\n",
       "      <th>Ecology_1</th>\n",
       "      <td>10000.0</td>\n",
       "      <td>0.118858</td>\n",
       "      <td>0.119025</td>\n",
       "      <td>0.000000</td>\n",
       "      <td>0.017647</td>\n",
       "      <td>0.075424</td>\n",
       "      <td>0.195781</td>\n",
       "      <td>5.218671e-01</td>\n",
       "    </tr>\n",
       "    <tr>\n",
       "      <th>Social_1</th>\n",
       "      <td>10000.0</td>\n",
       "      <td>24.687000</td>\n",
       "      <td>17.532614</td>\n",
       "      <td>0.000000</td>\n",
       "      <td>6.000000</td>\n",
       "      <td>25.000000</td>\n",
       "      <td>36.000000</td>\n",
       "      <td>7.400000e+01</td>\n",
       "    </tr>\n",
       "    <tr>\n",
       "      <th>Social_2</th>\n",
       "      <td>10000.0</td>\n",
       "      <td>5352.157400</td>\n",
       "      <td>4006.799803</td>\n",
       "      <td>168.000000</td>\n",
       "      <td>1564.000000</td>\n",
       "      <td>5285.000000</td>\n",
       "      <td>7227.000000</td>\n",
       "      <td>1.908300e+04</td>\n",
       "    </tr>\n",
       "    <tr>\n",
       "      <th>Social_3</th>\n",
       "      <td>10000.0</td>\n",
       "      <td>8.039200</td>\n",
       "      <td>23.831875</td>\n",
       "      <td>0.000000</td>\n",
       "      <td>0.000000</td>\n",
       "      <td>2.000000</td>\n",
       "      <td>5.000000</td>\n",
       "      <td>1.410000e+02</td>\n",
       "    </tr>\n",
       "    <tr>\n",
       "      <th>Healthcare_1</th>\n",
       "      <td>5202.0</td>\n",
       "      <td>1142.904460</td>\n",
       "      <td>1021.517264</td>\n",
       "      <td>0.000000</td>\n",
       "      <td>350.000000</td>\n",
       "      <td>900.000000</td>\n",
       "      <td>1548.000000</td>\n",
       "      <td>4.849000e+03</td>\n",
       "    </tr>\n",
       "    <tr>\n",
       "      <th>Helthcare_2</th>\n",
       "      <td>10000.0</td>\n",
       "      <td>1.319500</td>\n",
       "      <td>1.493601</td>\n",
       "      <td>0.000000</td>\n",
       "      <td>0.000000</td>\n",
       "      <td>1.000000</td>\n",
       "      <td>2.000000</td>\n",
       "      <td>6.000000e+00</td>\n",
       "    </tr>\n",
       "    <tr>\n",
       "      <th>Shops_1</th>\n",
       "      <td>10000.0</td>\n",
       "      <td>4.231300</td>\n",
       "      <td>4.806341</td>\n",
       "      <td>0.000000</td>\n",
       "      <td>1.000000</td>\n",
       "      <td>3.000000</td>\n",
       "      <td>6.000000</td>\n",
       "      <td>2.300000e+01</td>\n",
       "    </tr>\n",
       "    <tr>\n",
       "      <th>Price</th>\n",
       "      <td>10000.0</td>\n",
       "      <td>214138.857399</td>\n",
       "      <td>92872.293865</td>\n",
       "      <td>59174.778028</td>\n",
       "      <td>153872.633942</td>\n",
       "      <td>192269.644879</td>\n",
       "      <td>249135.462171</td>\n",
       "      <td>6.332335e+05</td>\n",
       "    </tr>\n",
       "  </tbody>\n",
       "</table>\n",
       "</div>"
      ],
      "text/plain": [
       "                 count           mean            std           min  \\\n",
       "Id             10000.0    8383.407700    4859.019020      0.000000   \n",
       "DistrictId     10000.0      50.400800      43.587592      0.000000   \n",
       "Rooms          10000.0       1.890500       0.839512      0.000000   \n",
       "Square         10000.0      56.315775      21.058732      1.136859   \n",
       "LifeSquare      7887.0      37.199645      86.241209      0.370619   \n",
       "KitchenSquare  10000.0       6.273300      28.560917      0.000000   \n",
       "Floor          10000.0       8.526700       5.241148      1.000000   \n",
       "HouseFloor     10000.0      12.609400       6.775974      0.000000   \n",
       "HouseYear      10000.0    3990.166300  200500.261427   1910.000000   \n",
       "Ecology_1      10000.0       0.118858       0.119025      0.000000   \n",
       "Social_1       10000.0      24.687000      17.532614      0.000000   \n",
       "Social_2       10000.0    5352.157400    4006.799803    168.000000   \n",
       "Social_3       10000.0       8.039200      23.831875      0.000000   \n",
       "Healthcare_1    5202.0    1142.904460    1021.517264      0.000000   \n",
       "Helthcare_2    10000.0       1.319500       1.493601      0.000000   \n",
       "Shops_1        10000.0       4.231300       4.806341      0.000000   \n",
       "Price          10000.0  214138.857399   92872.293865  59174.778028   \n",
       "\n",
       "                         25%            50%            75%           max  \n",
       "Id               4169.500000    8394.500000   12592.500000  1.679800e+04  \n",
       "DistrictId         20.000000      36.000000      75.000000  2.090000e+02  \n",
       "Rooms               1.000000       2.000000       2.000000  1.900000e+01  \n",
       "Square             41.774881      52.513310      65.900625  6.410652e+02  \n",
       "LifeSquare         22.769832      32.781260      45.128803  7.480592e+03  \n",
       "KitchenSquare       1.000000       6.000000       9.000000  2.014000e+03  \n",
       "Floor               4.000000       7.000000      12.000000  4.200000e+01  \n",
       "HouseFloor          9.000000      13.000000      17.000000  1.170000e+02  \n",
       "HouseYear        1974.000000    1977.000000    2001.000000  2.005201e+07  \n",
       "Ecology_1           0.017647       0.075424       0.195781  5.218671e-01  \n",
       "Social_1            6.000000      25.000000      36.000000  7.400000e+01  \n",
       "Social_2         1564.000000    5285.000000    7227.000000  1.908300e+04  \n",
       "Social_3            0.000000       2.000000       5.000000  1.410000e+02  \n",
       "Healthcare_1      350.000000     900.000000    1548.000000  4.849000e+03  \n",
       "Helthcare_2         0.000000       1.000000       2.000000  6.000000e+00  \n",
       "Shops_1             1.000000       3.000000       6.000000  2.300000e+01  \n",
       "Price          153872.633942  192269.644879  249135.462171  6.332335e+05  "
      ]
     },
     "execution_count": 100,
     "metadata": {},
     "output_type": "execute_result"
    }
   ],
   "source": [
    "\"\"\"Исследование статистических метрик датасета\"\"\"\n",
    "\n",
    "train_ds.describe().T"
   ]
  },
  {
   "cell_type": "markdown",
   "id": "3e95dc67",
   "metadata": {},
   "source": [
    "Данный метод позволяет оценить некоторые из оценок  \n",
    "1. центрального положения:  \n",
    "     - Среднее. Самая элементраная оценка центрального положения. Не всегда являтся лучшей мерой центрального значения. Это объясняется тем, что среднее неустойчиво к выбросам, т.е при наличии сильно большого значения в признаке, значение данной оценки будет стремится к нему. При использовании среднего, в ряде случаев, предпочтительным будет использование оценки \"усеченное среднее\"\n",
    "     - Медиана. Является робастной оценкой центрального положения, поскольку устойчива к выбросам.\n",
    "\n",
    "2. вариабельности:  \n",
    "    - стандартное отклонение, дисперсия. Наиболее распространенные\n",
    "    - квартили\n",
    "\n"
   ]
  },
  {
   "cell_type": "markdown",
   "id": "c368684c",
   "metadata": {},
   "source": [
    "---  \n",
    "Построим гистограммы для каждого признака  \n",
    "С использованием полученных результатов возможно визуально оценить распределение данных"
   ]
  },
  {
   "cell_type": "code",
   "execution_count": 101,
   "id": "0ae7b7e0",
   "metadata": {},
   "outputs": [
    {
     "data": {
      "image/png": "[encoded data removed]",
      "text/plain": [
       "<Figure size 1152x1152 with 20 Axes>"
      ]
     },
     "metadata": {},
     "output_type": "display_data"
    }
   ],
   "source": [
    "train_ds.hist(figsize=(16, 16), bins=20, grid=False)\n",
    "plt.show()"
   ]
  },
  {
   "cell_type": "markdown",
   "id": "db802926",
   "metadata": {},
   "source": [
    "Еще одним средством визуального анализа является оценка плотности распределения.\n",
    "Построим алотность распределения для целевой переменной"
   ]
  },
  {
   "cell_type": "code",
   "execution_count": 102,
   "id": "517edebf",
   "metadata": {},
   "outputs": [
    {
     "data": {
      "image/png": "[encoded data removed]",
      "text/plain": [
       "<Figure size 432x288 with 1 Axes>"
      ]
     },
     "metadata": {},
     "output_type": "display_data"
    }
   ],
   "source": [
    "train_ds['Price'].plot.density()\n",
    "plt.show()"
   ]
  },
  {
   "cell_type": "markdown",
   "id": "50e399ad",
   "metadata": {},
   "source": [
    "# Оптимизация датасета  \n",
    "---"
   ]
  },
  {
   "cell_type": "markdown",
   "id": "e5e9176c",
   "metadata": {},
   "source": [
    "Выделенный объем памяти для хранения фич может быть избыточным.  \n",
    "Выполним попытку оптимизации занимаемого объема памяти."
   ]
  },
  {
   "cell_type": "code",
   "execution_count": 103,
   "id": "6a948d81",
   "metadata": {},
   "outputs": [],
   "source": [
    "def do_mem_optimize(ds: pd.DataFrame):\n",
    "    \"\"\"\n",
    "    Оптимизация выделяемой памяти для каждого из признаков\n",
    "    \"\"\"\n",
    "    def get_reduce(feature: pd.Series, available_types: list, type_group: str):\n",
    "        \"\"\" \n",
    "        Контроль max и min значений фичи feature.\n",
    "        Если диапазон значений фичи помещается\n",
    "        в допустимый диапазон типа данных, для \n",
    "        которого выделяется меньший объем памяти, \n",
    "        выполняется преобразование данных\n",
    "        \"\"\"\n",
    "        \n",
    "        \"\"\"\n",
    "        Функция, которая будет вызываться\n",
    "        для определения диапазона допустимых\n",
    "        значений типа данных.\n",
    "        \n",
    "        На выбор функции оказывает влияние параметр type_group:\n",
    "         - type_group == 'float' -> f_call = np.sinfo\n",
    "         - type_group == 'int' -> f_call = np.iinfo\n",
    "        \n",
    "        Данные типа object преобразуются к типу category,\n",
    "        поскольку операции с данным типов выполняются быстрее\n",
    "        \"\"\"\n",
    "        f_call = np.iinfo if type_group == 'int' else np.finfo\n",
    "        \n",
    "        for a_type in available_types:\n",
    "            if feature.min() >= f_call(a_type).min and feature.max() <= f_call(a_type).max:\n",
    "                if a_type != feature.dtype: return feature.astype(a_type)\n",
    "                else: return feature\n",
    "    \n",
    "    NP_INT_TYPES = [\n",
    "        np.int8,\n",
    "        np.int16,\n",
    "        np.int32,\n",
    "        np.int64,\n",
    "    ]\n",
    "    \n",
    "    NP_FLOAT_TYPES = [\n",
    "        np.float32,\n",
    "        np.float64,\n",
    "    ]\n",
    "    \n",
    "    for col_name in ds.columns:\n",
    "        if ds[col_name].dtype in NP_INT_TYPES:\n",
    "            ds[col_name] = get_reduce(ds[col_name], NP_INT_TYPES, 'int')\n",
    "        elif ds[col_name].dtype in NP_FLOAT_TYPES:\n",
    "            ds[col_name] = get_reduce(ds[col_name], NP_FLOAT_TYPES, 'float')\n",
    "        else:\n",
    "            ds[col_name] = ds[col_name].astype('category')    "
   ]
  },
  {
   "cell_type": "markdown",
   "id": "ba5f325f",
   "metadata": {},
   "source": [
    "Выполнение операции оптимизации"
   ]
  },
  {
   "cell_type": "code",
   "execution_count": 104,
   "id": "4267d9e2",
   "metadata": {},
   "outputs": [],
   "source": [
    "orig_size = train_ds.memory_usage().sum()\n",
    "do_mem_optimize(train_ds)\n",
    "reduced_size = train_ds.memory_usage().sum()"
   ]
  },
  {
   "cell_type": "markdown",
   "id": "439ec451",
   "metadata": {},
   "source": [
    "Представление результатов оптимизации в виде таблицы"
   ]
  },
  {
   "cell_type": "code",
   "execution_count": 105,
   "id": "ad5676e9",
   "metadata": {},
   "outputs": [
    {
     "data": {
      "text/html": [
       "<div>\n",
       "<style scoped>\n",
       "    .dataframe tbody tr th:only-of-type {\n",
       "        vertical-align: middle;\n",
       "    }\n",
       "\n",
       "    .dataframe tbody tr th {\n",
       "        vertical-align: top;\n",
       "    }\n",
       "\n",
       "    .dataframe thead th {\n",
       "        text-align: right;\n",
       "    }\n",
       "</style>\n",
       "<table border=\"1\" class=\"dataframe\">\n",
       "  <thead>\n",
       "    <tr style=\"text-align: right;\">\n",
       "      <th></th>\n",
       "      <th>orig size (bytes)</th>\n",
       "      <th>reduced size (bytes)</th>\n",
       "    </tr>\n",
       "  </thead>\n",
       "  <tbody>\n",
       "    <tr>\n",
       "      <th>0</th>\n",
       "      <td>1600128</td>\n",
       "      <td>510500</td>\n",
       "    </tr>\n",
       "  </tbody>\n",
       "</table>\n",
       "</div>"
      ],
      "text/plain": [
       "   orig size (bytes)  reduced size (bytes)\n",
       "0            1600128                510500"
      ]
     },
     "execution_count": 105,
     "metadata": {},
     "output_type": "execute_result"
    }
   ],
   "source": [
    "reduce_result = pd.DataFrame({\n",
    "    'orig size (bytes)': [orig_size],\n",
    "    'reduced size (bytes)': [reduced_size]\n",
    "})\n",
    "reduce_result"
   ]
  },
  {
   "cell_type": "markdown",
   "id": "6367ca3a",
   "metadata": {},
   "source": [
    "Вывод: с использованием предложенного алгоритма удалось оптимизировать объем  \n",
    "    занимаемой памяти примерно в 3 раза"
   ]
  },
  {
   "cell_type": "markdown",
   "id": "5308717a",
   "metadata": {},
   "source": [
    "# Обработка пропусков"
   ]
  },
  {
   "cell_type": "markdown",
   "id": "a82318d4",
   "metadata": {},
   "source": [
    "Существует ряд способов обработки пропусков.\n",
    "\n",
    "Один из таких способов - это замена пропущенных значений.\n",
    "\n",
    "Операция замены для данных \n",
    "различных типов имеет некоторое отличие.\n",
    "\n",
    "Для вещественных признаков значением для замены \n",
    "может служить медиана или среднее\n",
    "\n",
    "Для категориальных признаков значением для замены \n",
    "может служить мода"
   ]
  },
  {
   "cell_type": "markdown",
   "id": "64cf3a26",
   "metadata": {},
   "source": [
    "В рассматриваемом датасете пропуски имеют фичи LifeSquare, Healthcare_1.  \n",
    "В данной работе в качестве значения для замены пропусков в вещественных признак выбрана метрика оценки центрального положения - медиана.  \n",
    "Поскольку выбросы еще не обработаны, в признаках могут встречаться значения, сильно отличающиеся от основного распределения. И если в качестве значения для замены пропусков использовать медиану, то она будет стремиться к этим аномальным значениям.  \n",
    "Значение для замены пропусков в категориальных переменных - мода.  \n",
    "Также для замены пропусков в вещественных переменных возможно использовать усеченное среднее. Данная метрика также (как и медиана) является робастной."
   ]
  },
  {
   "cell_type": "code",
   "execution_count": 106,
   "id": "56988a1a",
   "metadata": {},
   "outputs": [],
   "source": [
    "def fill_na(ds: pd.DataFrame):\n",
    "    \"\"\"\n",
    "    Функция замены пропусков.\n",
    "    1. Определение типа признака, в котором имеются пропуски\n",
    "    2. Замена пропущенных значений\n",
    "        - вещественный признак: пропуски заменяются на медиану\n",
    "        - категориальный признак: пропуски заменяются на моду\n",
    "    \"\"\"\n",
    "    for col_name in ds.columns:\n",
    "        if pd.isna(ds[col_name]).sum() > 0:\n",
    "            if pd.api.types.is_categorical_dtype(ds[col_name]): ds[col_name].fillna(ds[col_name].mode(), inplace=True)\n",
    "            else: ds[col_name].fillna(ds[col_name].median(), inplace=True)"
   ]
  },
  {
   "cell_type": "markdown",
   "id": "b0fe6954",
   "metadata": {},
   "source": [
    "Обработка пропусков с использованием реализованной функции"
   ]
  },
  {
   "cell_type": "code",
   "execution_count": 107,
   "id": "122008db",
   "metadata": {},
   "outputs": [],
   "source": [
    "fill_na(train_ds)"
   ]
  },
  {
   "cell_type": "markdown",
   "id": "da9f6a28",
   "metadata": {},
   "source": [
    "Оценка результата заполнения пропусков  \n",
    "Результат: все пропуски заполнены"
   ]
  },
  {
   "cell_type": "code",
   "execution_count": 108,
   "id": "e25b0e7b",
   "metadata": {},
   "outputs": [
    {
     "name": "stdout",
     "output_type": "stream",
     "text": [
      "<class 'pandas.core.frame.DataFrame'>\n",
      "RangeIndex: 10000 entries, 0 to 9999\n",
      "Data columns (total 20 columns):\n",
      " #   Column         Non-Null Count  Dtype   \n",
      "---  ------         --------------  -----   \n",
      " 0   Id             10000 non-null  int16   \n",
      " 1   DistrictId     10000 non-null  int16   \n",
      " 2   Rooms          10000 non-null  float32 \n",
      " 3   Square         10000 non-null  float32 \n",
      " 4   LifeSquare     10000 non-null  float32 \n",
      " 5   KitchenSquare  10000 non-null  float32 \n",
      " 6   Floor          10000 non-null  int8    \n",
      " 7   HouseFloor     10000 non-null  float32 \n",
      " 8   HouseYear      10000 non-null  int32   \n",
      " 9   Ecology_1      10000 non-null  float32 \n",
      " 10  Ecology_2      10000 non-null  category\n",
      " 11  Ecology_3      10000 non-null  category\n",
      " 12  Social_1       10000 non-null  int8    \n",
      " 13  Social_2       10000 non-null  int16   \n",
      " 14  Social_3       10000 non-null  int16   \n",
      " 15  Healthcare_1   10000 non-null  float32 \n",
      " 16  Helthcare_2    10000 non-null  int8    \n",
      " 17  Shops_1        10000 non-null  int8    \n",
      " 18  Shops_2        10000 non-null  category\n",
      " 19  Price          10000 non-null  float32 \n",
      "dtypes: category(3), float32(8), int16(4), int32(1), int8(4)\n",
      "memory usage: 498.5 KB\n"
     ]
    }
   ],
   "source": [
    "train_ds.info()"
   ]
  },
  {
   "cell_type": "markdown",
   "id": "dbf836c5",
   "metadata": {},
   "source": [
    "# Обработка выбросов и аномалий"
   ]
  },
  {
   "cell_type": "markdown",
   "id": "a6f55e8e",
   "metadata": {},
   "source": [
    "#### 1. Обработка событий, которых в реальной жизни случиться не может"
   ]
  },
  {
   "cell_type": "markdown",
   "id": "27978e3e",
   "metadata": {},
   "source": [
    "Поиск количества объектов, в которых площадь кухни >= общей площади"
   ]
  },
  {
   "cell_type": "code",
   "execution_count": 109,
   "id": "ada14c82",
   "metadata": {},
   "outputs": [
    {
     "data": {
      "text/plain": [
       "0.04"
      ]
     },
     "execution_count": 109,
     "metadata": {},
     "output_type": "execute_result"
    }
   ],
   "source": [
    "cnt_anomaly_kitchen_square = train_ds[train_ds['KitchenSquare'] >= train_ds['Square']].shape[0]\n",
    "(cnt_anomaly_kitchen_square / train_ds.shape[0])*100"
   ]
  },
  {
   "cell_type": "markdown",
   "id": "12e324d5",
   "metadata": {},
   "source": [
    "т.к. количество таких объектов очень мало - 0,04 %, можем их дропнуть"
   ]
  },
  {
   "cell_type": "code",
   "execution_count": 110,
   "id": "f285ecd5",
   "metadata": {},
   "outputs": [],
   "source": [
    "train_ds = train_ds[train_ds['KitchenSquare'] < train_ds['Square']]"
   ]
  },
  {
   "cell_type": "markdown",
   "id": "e32ef50e",
   "metadata": {},
   "source": [
    "Поиск количества объектов, в которых жилая площадь >= общей площади"
   ]
  },
  {
   "cell_type": "code",
   "execution_count": 111,
   "id": "5c645fde",
   "metadata": {},
   "outputs": [
    {
     "data": {
      "text/plain": [
       "5.212084833933574"
      ]
     },
     "execution_count": 111,
     "metadata": {},
     "output_type": "execute_result"
    }
   ],
   "source": [
    "cnt_anomaly_kitchen_square = train_ds[train_ds['LifeSquare'] >= train_ds['Square']].shape[0]\n",
    "(cnt_anomaly_kitchen_square / train_ds.shape[0])*100"
   ]
  },
  {
   "cell_type": "markdown",
   "id": "ca554c61",
   "metadata": {},
   "source": [
    "Поскольку количество таких объектов составляет 5.2 % от общей тренировочной выборки, то\n",
    "удалять их не совсем правильно. \n",
    "1. Найдем средний размер жилой площади для каждого количества комнат (\n",
    "Важно: среднее вычислять, не учитывая объекты, в которых жилая площадь >= общей\n",
    ") \n",
    "2. Заменим жилую площадь в объектах, где есть выбросы, на соответствующее среднее значение"
   ]
  },
  {
   "cell_type": "code",
   "execution_count": 112,
   "id": "3cebeb57",
   "metadata": {},
   "outputs": [],
   "source": [
    "\"\"\"Формирование словаря \n",
    "{\n",
    "    cnt_rooms: mean_life_square\n",
    "}\n",
    "\"\"\"\n",
    "rooms_mean_life_square = {}\n",
    "\n",
    "for cnt_rooms in train_ds.loc[train_ds['LifeSquare'] < train_ds['Square'], 'Rooms'].unique():\n",
    "    rooms_mean_life_square[cnt_rooms] = train_ds.loc[(train_ds['Rooms'] == cnt_rooms) & (train_ds['LifeSquare'] < train_ds['Square']), \n",
    "                                                     'LifeSquare'].mean()\n",
    "\n",
    "\n",
    "life_square_anomaly_obj = []\n",
    "\n",
    "for cnt_rooms in train_ds[train_ds['LifeSquare'] >= train_ds['Square']]['Rooms']:\n",
    "    life_square_anomaly_obj.append(rooms_mean_life_square[cnt_rooms])\n",
    "    \n",
    "\"\"\"Заменим у объектов, у которых LifeSquare >= Square \n",
    "Размер жилой площади на среднее, опираясь на количество комнат\n",
    "\"\"\"\n",
    "train_ds.loc[train_ds['LifeSquare'] >= train_ds['Square'], 'LifeSquare'] = life_square_anomaly_obj"
   ]
  },
  {
   "cell_type": "code",
   "execution_count": 113,
   "id": "0d147c52",
   "metadata": {},
   "outputs": [
    {
     "data": {
      "text/plain": [
       "0.17006802721088435"
      ]
     },
     "execution_count": 113,
     "metadata": {},
     "output_type": "execute_result"
    }
   ],
   "source": [
    "cnt_anomaly_kitchen_square = train_ds[train_ds['LifeSquare'] >= train_ds['Square']].shape[0]\n",
    "(cnt_anomaly_kitchen_square / train_ds.shape[0])*100"
   ]
  },
  {
   "cell_type": "markdown",
   "id": "9470c6a6",
   "metadata": {},
   "source": [
    "Вывод: Количество таких объектов стало сильно уменьшилось"
   ]
  },
  {
   "cell_type": "markdown",
   "id": "bf6ea04e",
   "metadata": {},
   "source": [
    "Рассчитаем процентное соотношение количества объектов, в которых количество \n",
    "комнат равно 0 к общему количеству (которое было до начала проведения анализа)"
   ]
  },
  {
   "cell_type": "code",
   "execution_count": 114,
   "id": "32fcae7c",
   "metadata": {},
   "outputs": [
    {
     "data": {
      "text/plain": [
       "0.08"
      ]
     },
     "execution_count": 114,
     "metadata": {},
     "output_type": "execute_result"
    }
   ],
   "source": [
    "rooms_zero_percentely = (train_ds[train_ds['Rooms'] == 0].shape[0] / CNT_OBJ) * 100\n",
    "rooms_zero_percentely"
   ]
  },
  {
   "cell_type": "markdown",
   "id": "3ecf9776",
   "metadata": {},
   "source": [
    "Количество очень мало - дропнем"
   ]
  },
  {
   "cell_type": "code",
   "execution_count": 115,
   "id": "ed7a3408",
   "metadata": {},
   "outputs": [],
   "source": [
    "train_ds = train_ds[train_ds['Rooms'] > 0]"
   ]
  },
  {
   "cell_type": "markdown",
   "id": "fa622fb7",
   "metadata": {},
   "source": [
    "Рассчитаем количество объектов, в которых площадь кухни больше жилой площади"
   ]
  },
  {
   "cell_type": "code",
   "execution_count": 116,
   "id": "d2e8701b",
   "metadata": {},
   "outputs": [
    {
     "data": {
      "text/plain": [
       "0.26"
      ]
     },
     "execution_count": 116,
     "metadata": {},
     "output_type": "execute_result"
    }
   ],
   "source": [
    "cnt_bigger_kitchen_percently = (train_ds[train_ds['KitchenSquare'] >= train_ds['LifeSquare']].shape[0] / CNT_OBJ)*100\n",
    "cnt_bigger_kitchen_percently"
   ]
  },
  {
   "cell_type": "markdown",
   "id": "583f8923",
   "metadata": {},
   "source": [
    "Количество очень мало - дропнем"
   ]
  },
  {
   "cell_type": "code",
   "execution_count": 117,
   "id": "e8a6f88a",
   "metadata": {},
   "outputs": [],
   "source": [
    "train_ds = train_ds[train_ds['KitchenSquare'] < train_ds['LifeSquare']]"
   ]
  },
  {
   "cell_type": "markdown",
   "id": "e1a28d40",
   "metadata": {},
   "source": [
    "Выполним промежуточный расчет общего количества (в процентах) объектов, которые были удалены"
   ]
  },
  {
   "cell_type": "code",
   "execution_count": 118,
   "id": "7501c43a",
   "metadata": {},
   "outputs": [
    {
     "data": {
      "text/plain": [
       "0.37999999999999545"
      ]
     },
     "execution_count": 118,
     "metadata": {},
     "output_type": "execute_result"
    }
   ],
   "source": [
    "rm_obj_percentely = 100 - ((train_ds.shape[0] / CNT_OBJ) * 100)\n",
    "rm_obj_percentely"
   ]
  },
  {
   "cell_type": "markdown",
   "id": "fa0108f3",
   "metadata": {},
   "source": [
    "Предварительный результат:  \n",
    "Удалено ~ 0.38% объектов. Результата отличный  \n",
    "Продолжаем"
   ]
  },
  {
   "cell_type": "markdown",
   "id": "dea5b241",
   "metadata": {},
   "source": [
    "Выделим объекты, в которых суммарная площадь: (жилая + площадь кухни) больше общей площади "
   ]
  },
  {
   "cell_type": "code",
   "execution_count": 119,
   "id": "c4e62e76",
   "metadata": {},
   "outputs": [
    {
     "data": {
      "text/plain": [
       "4.1000000000000005"
      ]
     },
     "execution_count": 119,
     "metadata": {},
     "output_type": "execute_result"
    }
   ],
   "source": [
    "cnt_sum_k_s_bigger_full_square_percently = (train_ds[(train_ds['LifeSquare'] + train_ds['KitchenSquare']) > train_ds['Square']].shape[0] / CNT_OBJ)*100\n",
    "cnt_sum_k_s_bigger_full_square_percently"
   ]
  },
  {
   "cell_type": "markdown",
   "id": "4006a729",
   "metadata": {},
   "source": [
    "Предлагаю следующий алгоритм для обработки подобных аномальных ситуаций  \n",
    "\n",
    "1. Найти среднее отношения площади кухни к жилой площади для квартир с определенным количеством комнат  \n",
    "2. Найти объекты, в которых (LifeSquare + KitchenSquare) > Square.  \n",
    "3. У найденных объектов просуммировать KitchenSquare и LifeSquare и разделить в рамках среднего соотношения (найденного в пункте 2)"
   ]
  },
  {
   "cell_type": "markdown",
   "id": "8d520779",
   "metadata": {},
   "source": [
    "1. Добавим в DataFrame столбец со значением отношения KitchenSquare к LifeSquare"
   ]
  },
  {
   "cell_type": "code",
   "execution_count": 120,
   "id": "c5bd71b1",
   "metadata": {},
   "outputs": [],
   "source": [
    "train_ds['ration_ks_squares'] = train_ds['KitchenSquare'] / train_ds['LifeSquare']"
   ]
  },
  {
   "cell_type": "markdown",
   "id": "33a94bd0",
   "metadata": {},
   "source": [
    "2. Найдем среднее соотношение для квартир с разным количеством комнат"
   ]
  },
  {
   "cell_type": "code",
   "execution_count": 121,
   "id": "bd06c556",
   "metadata": {},
   "outputs": [
    {
     "data": {
      "text/plain": [
       "{2.0: 0.17505255341529846,\n",
       " 3.0: 0.14607089757919312,\n",
       " 1.0: 0.2479579895734787,\n",
       " 4.0: 0.14802511036396027,\n",
       " 10.0: 0.2681718170642853,\n",
       " 5.0: 0.108564093708992,\n",
       " 19.0: 0.3214063048362732,\n",
       " 6.0: 0.1550297737121582}"
      ]
     },
     "execution_count": 121,
     "metadata": {},
     "output_type": "execute_result"
    }
   ],
   "source": [
    "rooms_ratio_kitchen_life_squares = {}\n",
    "\n",
    "for cnt_rooms in train_ds.loc[(train_ds['LifeSquare'] + train_ds['KitchenSquare']) <= train_ds['Square'], 'Rooms'].unique():\n",
    "    rooms_ratio_kitchen_life_squares[cnt_rooms] = train_ds.loc[((train_ds['LifeSquare'] + train_ds['KitchenSquare']) <= train_ds['Square']) & \n",
    "                                                              (train_ds['Rooms'] == cnt_rooms), 'ration_ks_squares'].mean()\n",
    "rooms_ratio_kitchen_life_squares"
   ]
  },
  {
   "cell_type": "markdown",
   "id": "4ec39c23",
   "metadata": {},
   "source": [
    "3. Для объектов, у которых (LifeSquare + KitchenSquare) > Square просуммируем LifeSquare + KitchenSqure, разделим в соотношении (найденном в пункте выше) и заменим данными значениями."
   ]
  },
  {
   "cell_type": "code",
   "execution_count": 122,
   "id": "b3d68467",
   "metadata": {},
   "outputs": [
    {
     "data": {
      "text/html": [
       "<div>\n",
       "<style scoped>\n",
       "    .dataframe tbody tr th:only-of-type {\n",
       "        vertical-align: middle;\n",
       "    }\n",
       "\n",
       "    .dataframe tbody tr th {\n",
       "        vertical-align: top;\n",
       "    }\n",
       "\n",
       "    .dataframe thead th {\n",
       "        text-align: right;\n",
       "    }\n",
       "</style>\n",
       "<table border=\"1\" class=\"dataframe\">\n",
       "  <thead>\n",
       "    <tr style=\"text-align: right;\">\n",
       "      <th></th>\n",
       "      <th>Square</th>\n",
       "      <th>KitchenSquare</th>\n",
       "      <th>LifeSquare</th>\n",
       "      <th>UpdateKitchenSquare</th>\n",
       "      <th>UpdateLifeSquare</th>\n",
       "    </tr>\n",
       "  </thead>\n",
       "  <tbody>\n",
       "    <tr>\n",
       "      <th>3</th>\n",
       "      <td>53.352982</td>\n",
       "      <td>9.0</td>\n",
       "      <td>52.731510</td>\n",
       "      <td>7.948220</td>\n",
       "      <td>45.404762</td>\n",
       "    </tr>\n",
       "    <tr>\n",
       "      <th>48</th>\n",
       "      <td>47.080101</td>\n",
       "      <td>12.0</td>\n",
       "      <td>46.807991</td>\n",
       "      <td>9.354391</td>\n",
       "      <td>37.725710</td>\n",
       "    </tr>\n",
       "    <tr>\n",
       "      <th>69</th>\n",
       "      <td>64.929100</td>\n",
       "      <td>10.0</td>\n",
       "      <td>63.304604</td>\n",
       "      <td>9.672763</td>\n",
       "      <td>55.256337</td>\n",
       "    </tr>\n",
       "    <tr>\n",
       "      <th>129</th>\n",
       "      <td>65.102020</td>\n",
       "      <td>1.0</td>\n",
       "      <td>64.622604</td>\n",
       "      <td>12.935184</td>\n",
       "      <td>52.166836</td>\n",
       "    </tr>\n",
       "    <tr>\n",
       "      <th>136</th>\n",
       "      <td>92.400009</td>\n",
       "      <td>10.0</td>\n",
       "      <td>92.069237</td>\n",
       "      <td>13.765221</td>\n",
       "      <td>78.634789</td>\n",
       "    </tr>\n",
       "    <tr>\n",
       "      <th>...</th>\n",
       "      <td>...</td>\n",
       "      <td>...</td>\n",
       "      <td>...</td>\n",
       "      <td>...</td>\n",
       "      <td>...</td>\n",
       "    </tr>\n",
       "    <tr>\n",
       "      <th>9860</th>\n",
       "      <td>45.220100</td>\n",
       "      <td>13.0</td>\n",
       "      <td>44.240841</td>\n",
       "      <td>8.984826</td>\n",
       "      <td>36.235275</td>\n",
       "    </tr>\n",
       "    <tr>\n",
       "      <th>9874</th>\n",
       "      <td>40.631542</td>\n",
       "      <td>7.0</td>\n",
       "      <td>38.750053</td>\n",
       "      <td>8.073121</td>\n",
       "      <td>32.558421</td>\n",
       "    </tr>\n",
       "    <tr>\n",
       "      <th>9897</th>\n",
       "      <td>38.330353</td>\n",
       "      <td>8.0</td>\n",
       "      <td>38.010048</td>\n",
       "      <td>7.615895</td>\n",
       "      <td>30.714458</td>\n",
       "    </tr>\n",
       "    <tr>\n",
       "      <th>9918</th>\n",
       "      <td>104.049133</td>\n",
       "      <td>10.0</td>\n",
       "      <td>99.788383</td>\n",
       "      <td>13.415982</td>\n",
       "      <td>90.633151</td>\n",
       "    </tr>\n",
       "    <tr>\n",
       "      <th>9974</th>\n",
       "      <td>33.227093</td>\n",
       "      <td>1.0</td>\n",
       "      <td>32.639168</td>\n",
       "      <td>6.601923</td>\n",
       "      <td>26.625169</td>\n",
       "    </tr>\n",
       "  </tbody>\n",
       "</table>\n",
       "<p>410 rows × 5 columns</p>\n",
       "</div>"
      ],
      "text/plain": [
       "          Square  KitchenSquare  LifeSquare  UpdateKitchenSquare  \\\n",
       "3      53.352982            9.0   52.731510             7.948220   \n",
       "48     47.080101           12.0   46.807991             9.354391   \n",
       "69     64.929100           10.0   63.304604             9.672763   \n",
       "129    65.102020            1.0   64.622604            12.935184   \n",
       "136    92.400009           10.0   92.069237            13.765221   \n",
       "...          ...            ...         ...                  ...   \n",
       "9860   45.220100           13.0   44.240841             8.984826   \n",
       "9874   40.631542            7.0   38.750053             8.073121   \n",
       "9897   38.330353            8.0   38.010048             7.615895   \n",
       "9918  104.049133           10.0   99.788383            13.415982   \n",
       "9974   33.227093            1.0   32.639168             6.601923   \n",
       "\n",
       "      UpdateLifeSquare  \n",
       "3            45.404762  \n",
       "48           37.725710  \n",
       "69           55.256337  \n",
       "129          52.166836  \n",
       "136          78.634789  \n",
       "...                ...  \n",
       "9860         36.235275  \n",
       "9874         32.558421  \n",
       "9897         30.714458  \n",
       "9918         90.633151  \n",
       "9974         26.625169  \n",
       "\n",
       "[410 rows x 5 columns]"
      ]
     },
     "execution_count": 122,
     "metadata": {},
     "output_type": "execute_result"
    }
   ],
   "source": [
    "change_objects = train_ds[(train_ds['LifeSquare'] + train_ds['KitchenSquare']) > train_ds['Square']]\n",
    "change_objects['sum_kitchen_life'] = change_objects['LifeSquare'] + change_objects['KitchenSquare']\n",
    "\n",
    "means_ratio = []\n",
    "\n",
    "for rooms in change_objects['Rooms']:\n",
    "    means_ratio.append(rooms_ratio_kitchen_life_squares[rooms])\n",
    "\n",
    "change_objects['means_ratio'] = means_ratio\n",
    "\n",
    "change_objects['UpdateLifeSquare'] = change_objects['Square'] / (1 + change_objects['means_ratio'])\n",
    "change_objects['UpdateKitchenSquare'] = change_objects['Square'] - change_objects['UpdateLifeSquare']\n",
    "change_objects[['Square', 'KitchenSquare', 'LifeSquare', 'UpdateKitchenSquare', 'UpdateLifeSquare']]"
   ]
  },
  {
   "cell_type": "code",
   "execution_count": 123,
   "id": "85cf8b92",
   "metadata": {},
   "outputs": [],
   "source": [
    "train_ds.loc[(train_ds['LifeSquare'] + train_ds['KitchenSquare']) > train_ds['Square'], 'LifeSquare'] = change_objects['UpdateLifeSquare']\n",
    "train_ds.loc[(train_ds['LifeSquare'] + train_ds['KitchenSquare']) > train_ds['Square'], 'KitchenSquare'] = change_objects['UpdateKitchenSquare']\n",
    "train_ds.drop('ration_ks_squares', axis=1, inplace=True)"
   ]
  },
  {
   "cell_type": "markdown",
   "id": "753b9fa2",
   "metadata": {},
   "source": [
    "Выделим количество объектов (относительно общего количества), в которых номер этажа больше этажности дома"
   ]
  },
  {
   "cell_type": "code",
   "execution_count": 124,
   "id": "102be6cf",
   "metadata": {},
   "outputs": [
    {
     "data": {
      "text/plain": [
       "18.12"
      ]
     },
     "execution_count": 124,
     "metadata": {},
     "output_type": "execute_result"
    }
   ],
   "source": [
    "cnt_anomaly_bigger_floor = (train_ds[train_ds['Floor'] > train_ds['HouseFloor']].shape[0] / CNT_OBJ) * 100\n",
    "cnt_anomaly_bigger_floor"
   ]
  },
  {
   "cell_type": "markdown",
   "id": "37eb7fb9",
   "metadata": {},
   "source": [
    "Количество таких объектов очень велико. Необходимо каким-то образом их обработать.  \n",
    "Заменим признак HouseFloor у объектов, у которых он равен 0 на медианное значение по признаку.  "
   ]
  },
  {
   "cell_type": "code",
   "execution_count": 125,
   "id": "398b095e",
   "metadata": {},
   "outputs": [],
   "source": [
    "train_ds.loc[train_ds['HouseFloor'] == 0, 'HouseFloor'] = train_ds['HouseFloor'].median()"
   ]
  },
  {
   "cell_type": "markdown",
   "id": "5c2f8c67",
   "metadata": {},
   "source": [
    "У объектов, у которых Floor > HouseFloor поменяем эти признаки местами"
   ]
  },
  {
   "cell_type": "code",
   "execution_count": 126,
   "id": "455b2d97",
   "metadata": {},
   "outputs": [],
   "source": [
    "train_ds['change'] = 0\n",
    "\n",
    "save_floor = train_ds.loc[train_ds['Floor'] > train_ds['HouseFloor'], 'Floor']\n",
    "save_house_floor = train_ds.loc[train_ds['Floor'] > train_ds['HouseFloor'], 'HouseFloor']\n",
    "\n",
    "train_ds.loc[train_ds['Floor'] > train_ds['HouseFloor'], 'change'] = 1"
   ]
  },
  {
   "cell_type": "code",
   "execution_count": 127,
   "id": "37b4f55d",
   "metadata": {},
   "outputs": [],
   "source": [
    "train_ds.loc[train_ds['change'] == 1, 'Floor'] = save_house_floor\n",
    "train_ds.loc[train_ds['change'] == 1, 'HouseFloor'] = save_floor\n",
    "train_ds = train_ds.drop('change', axis = 1)"
   ]
  },
  {
   "cell_type": "code",
   "execution_count": 128,
   "id": "0aa269d8",
   "metadata": {},
   "outputs": [
    {
     "data": {
      "text/plain": [
       "0.0"
      ]
     },
     "execution_count": 128,
     "metadata": {},
     "output_type": "execute_result"
    }
   ],
   "source": [
    "cnt_anomaly_bigger_floor = (train_ds[train_ds['Floor'] > train_ds['HouseFloor']].shape[0] / CNT_OBJ) * 100\n",
    "cnt_anomaly_bigger_floor"
   ]
  },
  {
   "cell_type": "code",
   "execution_count": 129,
   "id": "87dd331c",
   "metadata": {},
   "outputs": [
    {
     "data": {
      "text/html": [
       "<div>\n",
       "<style scoped>\n",
       "    .dataframe tbody tr th:only-of-type {\n",
       "        vertical-align: middle;\n",
       "    }\n",
       "\n",
       "    .dataframe tbody tr th {\n",
       "        vertical-align: top;\n",
       "    }\n",
       "\n",
       "    .dataframe thead th {\n",
       "        text-align: right;\n",
       "    }\n",
       "</style>\n",
       "<table border=\"1\" class=\"dataframe\">\n",
       "  <thead>\n",
       "    <tr style=\"text-align: right;\">\n",
       "      <th></th>\n",
       "      <th>Id</th>\n",
       "      <th>DistrictId</th>\n",
       "      <th>Rooms</th>\n",
       "      <th>Square</th>\n",
       "      <th>LifeSquare</th>\n",
       "      <th>KitchenSquare</th>\n",
       "      <th>Floor</th>\n",
       "      <th>HouseFloor</th>\n",
       "      <th>HouseYear</th>\n",
       "      <th>Ecology_1</th>\n",
       "      <th>Ecology_2</th>\n",
       "      <th>Ecology_3</th>\n",
       "      <th>Social_1</th>\n",
       "      <th>Social_2</th>\n",
       "      <th>Social_3</th>\n",
       "      <th>Healthcare_1</th>\n",
       "      <th>Helthcare_2</th>\n",
       "      <th>Shops_1</th>\n",
       "      <th>Shops_2</th>\n",
       "      <th>Price</th>\n",
       "    </tr>\n",
       "  </thead>\n",
       "  <tbody>\n",
       "    <tr>\n",
       "      <th>0</th>\n",
       "      <td>14038</td>\n",
       "      <td>35</td>\n",
       "      <td>2.0</td>\n",
       "      <td>47.981560</td>\n",
       "      <td>29.442751</td>\n",
       "      <td>6.0</td>\n",
       "      <td>7.0</td>\n",
       "      <td>9.0</td>\n",
       "      <td>1969</td>\n",
       "      <td>0.089040</td>\n",
       "      <td>B</td>\n",
       "      <td>B</td>\n",
       "      <td>33</td>\n",
       "      <td>7976</td>\n",
       "      <td>5</td>\n",
       "      <td>900.0</td>\n",
       "      <td>0</td>\n",
       "      <td>11</td>\n",
       "      <td>B</td>\n",
       "      <td>184966.93750</td>\n",
       "    </tr>\n",
       "    <tr>\n",
       "      <th>1</th>\n",
       "      <td>15053</td>\n",
       "      <td>41</td>\n",
       "      <td>3.0</td>\n",
       "      <td>65.683640</td>\n",
       "      <td>40.049541</td>\n",
       "      <td>8.0</td>\n",
       "      <td>7.0</td>\n",
       "      <td>9.0</td>\n",
       "      <td>1978</td>\n",
       "      <td>0.000070</td>\n",
       "      <td>B</td>\n",
       "      <td>B</td>\n",
       "      <td>46</td>\n",
       "      <td>10309</td>\n",
       "      <td>1</td>\n",
       "      <td>240.0</td>\n",
       "      <td>1</td>\n",
       "      <td>16</td>\n",
       "      <td>B</td>\n",
       "      <td>300009.43750</td>\n",
       "    </tr>\n",
       "    <tr>\n",
       "      <th>2</th>\n",
       "      <td>4765</td>\n",
       "      <td>53</td>\n",
       "      <td>2.0</td>\n",
       "      <td>44.947952</td>\n",
       "      <td>29.197611</td>\n",
       "      <td>0.0</td>\n",
       "      <td>8.0</td>\n",
       "      <td>12.0</td>\n",
       "      <td>1968</td>\n",
       "      <td>0.049637</td>\n",
       "      <td>B</td>\n",
       "      <td>B</td>\n",
       "      <td>34</td>\n",
       "      <td>7759</td>\n",
       "      <td>0</td>\n",
       "      <td>229.0</td>\n",
       "      <td>1</td>\n",
       "      <td>3</td>\n",
       "      <td>B</td>\n",
       "      <td>220925.90625</td>\n",
       "    </tr>\n",
       "  </tbody>\n",
       "</table>\n",
       "</div>"
      ],
      "text/plain": [
       "      Id  DistrictId  Rooms     Square  LifeSquare  KitchenSquare  Floor  \\\n",
       "0  14038          35    2.0  47.981560   29.442751            6.0    7.0   \n",
       "1  15053          41    3.0  65.683640   40.049541            8.0    7.0   \n",
       "2   4765          53    2.0  44.947952   29.197611            0.0    8.0   \n",
       "\n",
       "   HouseFloor  HouseYear  Ecology_1 Ecology_2 Ecology_3  Social_1  Social_2  \\\n",
       "0         9.0       1969   0.089040         B         B        33      7976   \n",
       "1         9.0       1978   0.000070         B         B        46     10309   \n",
       "2        12.0       1968   0.049637         B         B        34      7759   \n",
       "\n",
       "   Social_3  Healthcare_1  Helthcare_2  Shops_1 Shops_2         Price  \n",
       "0         5         900.0            0       11       B  184966.93750  \n",
       "1         1         240.0            1       16       B  300009.43750  \n",
       "2         0         229.0            1        3       B  220925.90625  "
      ]
     },
     "execution_count": 129,
     "metadata": {},
     "output_type": "execute_result"
    }
   ],
   "source": [
    "train_ds.head(3)"
   ]
  },
  {
   "cell_type": "markdown",
   "id": "cc43c0e2",
   "metadata": {},
   "source": [
    "Выделим те объекты, в которых год постройки дома превышает значение текущего года"
   ]
  },
  {
   "cell_type": "code",
   "execution_count": 130,
   "id": "3c034df1",
   "metadata": {},
   "outputs": [
    {
     "data": {
      "text/html": [
       "<div>\n",
       "<style scoped>\n",
       "    .dataframe tbody tr th:only-of-type {\n",
       "        vertical-align: middle;\n",
       "    }\n",
       "\n",
       "    .dataframe tbody tr th {\n",
       "        vertical-align: top;\n",
       "    }\n",
       "\n",
       "    .dataframe thead th {\n",
       "        text-align: right;\n",
       "    }\n",
       "</style>\n",
       "<table border=\"1\" class=\"dataframe\">\n",
       "  <thead>\n",
       "    <tr style=\"text-align: right;\">\n",
       "      <th></th>\n",
       "      <th>Id</th>\n",
       "      <th>DistrictId</th>\n",
       "      <th>Rooms</th>\n",
       "      <th>Square</th>\n",
       "      <th>LifeSquare</th>\n",
       "      <th>KitchenSquare</th>\n",
       "      <th>Floor</th>\n",
       "      <th>HouseFloor</th>\n",
       "      <th>HouseYear</th>\n",
       "      <th>Ecology_1</th>\n",
       "      <th>Ecology_2</th>\n",
       "      <th>Ecology_3</th>\n",
       "      <th>Social_1</th>\n",
       "      <th>Social_2</th>\n",
       "      <th>Social_3</th>\n",
       "      <th>Healthcare_1</th>\n",
       "      <th>Helthcare_2</th>\n",
       "      <th>Shops_1</th>\n",
       "      <th>Shops_2</th>\n",
       "      <th>Price</th>\n",
       "    </tr>\n",
       "  </thead>\n",
       "  <tbody>\n",
       "    <tr>\n",
       "      <th>1497</th>\n",
       "      <td>10814</td>\n",
       "      <td>109</td>\n",
       "      <td>1.0</td>\n",
       "      <td>37.265072</td>\n",
       "      <td>20.239714</td>\n",
       "      <td>9.0</td>\n",
       "      <td>9.0</td>\n",
       "      <td>12.0</td>\n",
       "      <td>20052011</td>\n",
       "      <td>0.136330</td>\n",
       "      <td>B</td>\n",
       "      <td>B</td>\n",
       "      <td>30</td>\n",
       "      <td>6141</td>\n",
       "      <td>10</td>\n",
       "      <td>262.0</td>\n",
       "      <td>3</td>\n",
       "      <td>6</td>\n",
       "      <td>B</td>\n",
       "      <td>254084.531250</td>\n",
       "    </tr>\n",
       "    <tr>\n",
       "      <th>4189</th>\n",
       "      <td>11607</td>\n",
       "      <td>147</td>\n",
       "      <td>2.0</td>\n",
       "      <td>44.791836</td>\n",
       "      <td>28.360394</td>\n",
       "      <td>5.0</td>\n",
       "      <td>4.0</td>\n",
       "      <td>9.0</td>\n",
       "      <td>4968</td>\n",
       "      <td>0.319809</td>\n",
       "      <td>B</td>\n",
       "      <td>B</td>\n",
       "      <td>25</td>\n",
       "      <td>4756</td>\n",
       "      <td>16</td>\n",
       "      <td>2857.0</td>\n",
       "      <td>5</td>\n",
       "      <td>8</td>\n",
       "      <td>B</td>\n",
       "      <td>243028.609375</td>\n",
       "    </tr>\n",
       "  </tbody>\n",
       "</table>\n",
       "</div>"
      ],
      "text/plain": [
       "         Id  DistrictId  Rooms     Square  LifeSquare  KitchenSquare  Floor  \\\n",
       "1497  10814         109    1.0  37.265072   20.239714            9.0    9.0   \n",
       "4189  11607         147    2.0  44.791836   28.360394            5.0    4.0   \n",
       "\n",
       "      HouseFloor  HouseYear  Ecology_1 Ecology_2 Ecology_3  Social_1  \\\n",
       "1497        12.0   20052011   0.136330         B         B        30   \n",
       "4189         9.0       4968   0.319809         B         B        25   \n",
       "\n",
       "      Social_2  Social_3  Healthcare_1  Helthcare_2  Shops_1 Shops_2  \\\n",
       "1497      6141        10         262.0            3        6       B   \n",
       "4189      4756        16        2857.0            5        8       B   \n",
       "\n",
       "              Price  \n",
       "1497  254084.531250  \n",
       "4189  243028.609375  "
      ]
     },
     "execution_count": 130,
     "metadata": {},
     "output_type": "execute_result"
    }
   ],
   "source": [
    "train_ds[train_ds['HouseYear'] > 2022]"
   ]
  },
  {
   "cell_type": "markdown",
   "id": "38e9ccb1",
   "metadata": {},
   "source": [
    "Таких объекта всего два, поэтому мы можем их либо обработать, либо удалить. Предлагаю удалить"
   ]
  },
  {
   "cell_type": "code",
   "execution_count": 131,
   "id": "b1172792",
   "metadata": {},
   "outputs": [],
   "source": [
    "train_ds = train_ds[train_ds['HouseYear'] < 2022]"
   ]
  },
  {
   "cell_type": "markdown",
   "id": "fa59bb71",
   "metadata": {},
   "source": [
    "Проведем анализ данного признака с использованием метода квартильного анализа"
   ]
  },
  {
   "cell_type": "code",
   "execution_count": 132,
   "id": "1c02cf1d",
   "metadata": {},
   "outputs": [
    {
     "data": {
      "text/plain": [
       "<AxesSubplot:xlabel='HouseYear'>"
      ]
     },
     "execution_count": 132,
     "metadata": {},
     "output_type": "execute_result"
    },
    {
     "data": {
      "image/png": "[encoded data removed]",
      "text/plain": [
       "<Figure size 432x288 with 1 Axes>"
      ]
     },
     "metadata": {},
     "output_type": "display_data"
    }
   ],
   "source": [
    "sb.boxplot(train_ds['HouseYear'])"
   ]
  },
  {
   "cell_type": "markdown",
   "id": "844a39a9",
   "metadata": {},
   "source": [
    "Видим, что потенциальные выбросы наблюдаются в тех объектах, в которых год постройки < 1936. Нельзя однозначно сказать, выбросы это или нет, поскольку метод квартильного анализа обладает рядом недостатков. Данный метод хорошо работает на  нормальном распределении. Именно исходя из нормального распределения был определен расстояние до min, max = 1.5 * IQR. Посмотрим на распределение данного признака."
   ]
  },
  {
   "cell_type": "code",
   "execution_count": 133,
   "id": "fb85502c",
   "metadata": {},
   "outputs": [
    {
     "data": {
      "text/plain": [
       "<AxesSubplot:>"
      ]
     },
     "execution_count": 133,
     "metadata": {},
     "output_type": "execute_result"
    },
    {
     "data": {
      "image/png": "[encoded data removed]",
      "text/plain": [
       "<Figure size 432x288 with 1 Axes>"
      ]
     },
     "metadata": {},
     "output_type": "display_data"
    }
   ],
   "source": [
    "train_ds['HouseYear'].hist(bins=40)"
   ]
  },
  {
   "cell_type": "markdown",
   "id": "539891ec",
   "metadata": {},
   "source": [
    "Видно, что распределение не нормальное. Принимаю решение не трогать трогать этот признак. Год постройки всех объектов находится в допустимом диапазоне значений."
   ]
  },
  {
   "cell_type": "code",
   "execution_count": 134,
   "id": "1830c982",
   "metadata": {},
   "outputs": [
    {
     "data": {
      "text/html": [
       "<div>\n",
       "<style scoped>\n",
       "    .dataframe tbody tr th:only-of-type {\n",
       "        vertical-align: middle;\n",
       "    }\n",
       "\n",
       "    .dataframe tbody tr th {\n",
       "        vertical-align: top;\n",
       "    }\n",
       "\n",
       "    .dataframe thead th {\n",
       "        text-align: right;\n",
       "    }\n",
       "</style>\n",
       "<table border=\"1\" class=\"dataframe\">\n",
       "  <thead>\n",
       "    <tr style=\"text-align: right;\">\n",
       "      <th></th>\n",
       "      <th>count</th>\n",
       "      <th>mean</th>\n",
       "      <th>std</th>\n",
       "      <th>min</th>\n",
       "      <th>25%</th>\n",
       "      <th>50%</th>\n",
       "      <th>75%</th>\n",
       "      <th>max</th>\n",
       "    </tr>\n",
       "  </thead>\n",
       "  <tbody>\n",
       "    <tr>\n",
       "      <th>Id</th>\n",
       "      <td>9960.0</td>\n",
       "      <td>8379.926606</td>\n",
       "      <td>4857.445994</td>\n",
       "      <td>0.000000</td>\n",
       "      <td>4166.750000</td>\n",
       "      <td>8393.500000</td>\n",
       "      <td>12585.250000</td>\n",
       "      <td>16798.000000</td>\n",
       "    </tr>\n",
       "    <tr>\n",
       "      <th>DistrictId</th>\n",
       "      <td>9960.0</td>\n",
       "      <td>50.411145</td>\n",
       "      <td>43.601357</td>\n",
       "      <td>0.000000</td>\n",
       "      <td>20.000000</td>\n",
       "      <td>36.000000</td>\n",
       "      <td>75.000000</td>\n",
       "      <td>209.000000</td>\n",
       "    </tr>\n",
       "    <tr>\n",
       "      <th>Rooms</th>\n",
       "      <td>9960.0</td>\n",
       "      <td>1.893072</td>\n",
       "      <td>0.838286</td>\n",
       "      <td>1.000000</td>\n",
       "      <td>1.000000</td>\n",
       "      <td>2.000000</td>\n",
       "      <td>2.000000</td>\n",
       "      <td>19.000000</td>\n",
       "    </tr>\n",
       "    <tr>\n",
       "      <th>Square</th>\n",
       "      <td>9960.0</td>\n",
       "      <td>56.302166</td>\n",
       "      <td>20.982950</td>\n",
       "      <td>1.136859</td>\n",
       "      <td>41.780320</td>\n",
       "      <td>52.535437</td>\n",
       "      <td>65.894297</td>\n",
       "      <td>641.065186</td>\n",
       "    </tr>\n",
       "    <tr>\n",
       "      <th>LifeSquare</th>\n",
       "      <td>9960.0</td>\n",
       "      <td>33.772381</td>\n",
       "      <td>14.378193</td>\n",
       "      <td>0.370619</td>\n",
       "      <td>25.445390</td>\n",
       "      <td>32.781261</td>\n",
       "      <td>37.715632</td>\n",
       "      <td>545.562988</td>\n",
       "    </tr>\n",
       "    <tr>\n",
       "      <th>KitchenSquare</th>\n",
       "      <td>9960.0</td>\n",
       "      <td>5.672783</td>\n",
       "      <td>3.932174</td>\n",
       "      <td>0.000000</td>\n",
       "      <td>1.000000</td>\n",
       "      <td>6.000000</td>\n",
       "      <td>9.000000</td>\n",
       "      <td>42.000000</td>\n",
       "    </tr>\n",
       "    <tr>\n",
       "      <th>Floor</th>\n",
       "      <td>9960.0</td>\n",
       "      <td>7.918273</td>\n",
       "      <td>5.182324</td>\n",
       "      <td>1.000000</td>\n",
       "      <td>4.000000</td>\n",
       "      <td>7.000000</td>\n",
       "      <td>11.000000</td>\n",
       "      <td>42.000000</td>\n",
       "    </tr>\n",
       "    <tr>\n",
       "      <th>HouseFloor</th>\n",
       "      <td>9960.0</td>\n",
       "      <td>13.564358</td>\n",
       "      <td>5.990055</td>\n",
       "      <td>1.000000</td>\n",
       "      <td>9.000000</td>\n",
       "      <td>14.000000</td>\n",
       "      <td>17.000000</td>\n",
       "      <td>117.000000</td>\n",
       "    </tr>\n",
       "    <tr>\n",
       "      <th>HouseYear</th>\n",
       "      <td>9960.0</td>\n",
       "      <td>1984.813554</td>\n",
       "      <td>18.375005</td>\n",
       "      <td>1912.000000</td>\n",
       "      <td>1974.000000</td>\n",
       "      <td>1977.000000</td>\n",
       "      <td>2001.000000</td>\n",
       "      <td>2020.000000</td>\n",
       "    </tr>\n",
       "    <tr>\n",
       "      <th>Ecology_1</th>\n",
       "      <td>9960.0</td>\n",
       "      <td>0.118879</td>\n",
       "      <td>0.119105</td>\n",
       "      <td>0.000000</td>\n",
       "      <td>0.017647</td>\n",
       "      <td>0.075424</td>\n",
       "      <td>0.195781</td>\n",
       "      <td>0.521867</td>\n",
       "    </tr>\n",
       "    <tr>\n",
       "      <th>Social_1</th>\n",
       "      <td>9960.0</td>\n",
       "      <td>24.708534</td>\n",
       "      <td>17.529505</td>\n",
       "      <td>0.000000</td>\n",
       "      <td>6.000000</td>\n",
       "      <td>25.000000</td>\n",
       "      <td>36.000000</td>\n",
       "      <td>74.000000</td>\n",
       "    </tr>\n",
       "    <tr>\n",
       "      <th>Social_2</th>\n",
       "      <td>9960.0</td>\n",
       "      <td>5355.892068</td>\n",
       "      <td>4005.959213</td>\n",
       "      <td>168.000000</td>\n",
       "      <td>1564.000000</td>\n",
       "      <td>5285.000000</td>\n",
       "      <td>7227.000000</td>\n",
       "      <td>19083.000000</td>\n",
       "    </tr>\n",
       "    <tr>\n",
       "      <th>Social_3</th>\n",
       "      <td>9960.0</td>\n",
       "      <td>8.059940</td>\n",
       "      <td>23.875449</td>\n",
       "      <td>0.000000</td>\n",
       "      <td>0.000000</td>\n",
       "      <td>2.000000</td>\n",
       "      <td>5.000000</td>\n",
       "      <td>141.000000</td>\n",
       "    </tr>\n",
       "    <tr>\n",
       "      <th>Healthcare_1</th>\n",
       "      <td>9960.0</td>\n",
       "      <td>1026.427612</td>\n",
       "      <td>747.065979</td>\n",
       "      <td>0.000000</td>\n",
       "      <td>830.000000</td>\n",
       "      <td>900.000000</td>\n",
       "      <td>1015.000000</td>\n",
       "      <td>4849.000000</td>\n",
       "    </tr>\n",
       "    <tr>\n",
       "      <th>Helthcare_2</th>\n",
       "      <td>9960.0</td>\n",
       "      <td>1.321084</td>\n",
       "      <td>1.493339</td>\n",
       "      <td>0.000000</td>\n",
       "      <td>0.000000</td>\n",
       "      <td>1.000000</td>\n",
       "      <td>2.000000</td>\n",
       "      <td>6.000000</td>\n",
       "    </tr>\n",
       "    <tr>\n",
       "      <th>Shops_1</th>\n",
       "      <td>9960.0</td>\n",
       "      <td>4.236747</td>\n",
       "      <td>4.809054</td>\n",
       "      <td>0.000000</td>\n",
       "      <td>1.000000</td>\n",
       "      <td>3.000000</td>\n",
       "      <td>6.000000</td>\n",
       "      <td>23.000000</td>\n",
       "    </tr>\n",
       "    <tr>\n",
       "      <th>Price</th>\n",
       "      <td>9960.0</td>\n",
       "      <td>214183.343750</td>\n",
       "      <td>92890.046875</td>\n",
       "      <td>59174.777344</td>\n",
       "      <td>153907.531250</td>\n",
       "      <td>192255.023438</td>\n",
       "      <td>249135.460938</td>\n",
       "      <td>633233.437500</td>\n",
       "    </tr>\n",
       "  </tbody>\n",
       "</table>\n",
       "</div>"
      ],
      "text/plain": [
       "                count           mean           std           min  \\\n",
       "Id             9960.0    8379.926606   4857.445994      0.000000   \n",
       "DistrictId     9960.0      50.411145     43.601357      0.000000   \n",
       "Rooms          9960.0       1.893072      0.838286      1.000000   \n",
       "Square         9960.0      56.302166     20.982950      1.136859   \n",
       "LifeSquare     9960.0      33.772381     14.378193      0.370619   \n",
       "KitchenSquare  9960.0       5.672783      3.932174      0.000000   \n",
       "Floor          9960.0       7.918273      5.182324      1.000000   \n",
       "HouseFloor     9960.0      13.564358      5.990055      1.000000   \n",
       "HouseYear      9960.0    1984.813554     18.375005   1912.000000   \n",
       "Ecology_1      9960.0       0.118879      0.119105      0.000000   \n",
       "Social_1       9960.0      24.708534     17.529505      0.000000   \n",
       "Social_2       9960.0    5355.892068   4005.959213    168.000000   \n",
       "Social_3       9960.0       8.059940     23.875449      0.000000   \n",
       "Healthcare_1   9960.0    1026.427612    747.065979      0.000000   \n",
       "Helthcare_2    9960.0       1.321084      1.493339      0.000000   \n",
       "Shops_1        9960.0       4.236747      4.809054      0.000000   \n",
       "Price          9960.0  214183.343750  92890.046875  59174.777344   \n",
       "\n",
       "                         25%            50%            75%            max  \n",
       "Id               4166.750000    8393.500000   12585.250000   16798.000000  \n",
       "DistrictId         20.000000      36.000000      75.000000     209.000000  \n",
       "Rooms               1.000000       2.000000       2.000000      19.000000  \n",
       "Square             41.780320      52.535437      65.894297     641.065186  \n",
       "LifeSquare         25.445390      32.781261      37.715632     545.562988  \n",
       "KitchenSquare       1.000000       6.000000       9.000000      42.000000  \n",
       "Floor               4.000000       7.000000      11.000000      42.000000  \n",
       "HouseFloor          9.000000      14.000000      17.000000     117.000000  \n",
       "HouseYear        1974.000000    1977.000000    2001.000000    2020.000000  \n",
       "Ecology_1           0.017647       0.075424       0.195781       0.521867  \n",
       "Social_1            6.000000      25.000000      36.000000      74.000000  \n",
       "Social_2         1564.000000    5285.000000    7227.000000   19083.000000  \n",
       "Social_3            0.000000       2.000000       5.000000     141.000000  \n",
       "Healthcare_1      830.000000     900.000000    1015.000000    4849.000000  \n",
       "Helthcare_2         0.000000       1.000000       2.000000       6.000000  \n",
       "Shops_1             1.000000       3.000000       6.000000      23.000000  \n",
       "Price          153907.531250  192255.023438  249135.460938  633233.437500  "
      ]
     },
     "execution_count": 134,
     "metadata": {},
     "output_type": "execute_result"
    }
   ],
   "source": [
    "train_ds.describe().T"
   ]
  },
  {
   "cell_type": "markdown",
   "id": "e8567cc1",
   "metadata": {},
   "source": [
    "Построим боксплоты для параметров площадей"
   ]
  },
  {
   "cell_type": "code",
   "execution_count": 135,
   "id": "8a04f342",
   "metadata": {},
   "outputs": [
    {
     "data": {
      "text/plain": [
       "<AxesSubplot:>"
      ]
     },
     "execution_count": 135,
     "metadata": {},
     "output_type": "execute_result"
    },
    {
     "data": {
      "image/png": "[encoded data removed]",
      "text/plain": [
       "<Figure size 432x288 with 1 Axes>"
      ]
     },
     "metadata": {},
     "output_type": "display_data"
    }
   ],
   "source": [
    "sb.boxplot(data=train_ds[['Square','LifeSquare', 'KitchenSquare']])"
   ]
  },
  {
   "cell_type": "markdown",
   "id": "61be4b98",
   "metadata": {},
   "source": [
    "Видно, что есть большое количество выбросов. Но эти объекты могут представлять либо элитную недвижимость, либо быть не жилыми помещениями, а коммерческими."
   ]
  },
  {
   "cell_type": "markdown",
   "id": "db7d7f93",
   "metadata": {},
   "source": [
    "# Выделение из датасета целевой переменной и признаков  \n",
    "---"
   ]
  },
  {
   "cell_type": "code",
   "execution_count": 136,
   "id": "7a8e36b1",
   "metadata": {},
   "outputs": [
    {
     "data": {
      "text/html": [
       "<div>\n",
       "<style scoped>\n",
       "    .dataframe tbody tr th:only-of-type {\n",
       "        vertical-align: middle;\n",
       "    }\n",
       "\n",
       "    .dataframe tbody tr th {\n",
       "        vertical-align: top;\n",
       "    }\n",
       "\n",
       "    .dataframe thead th {\n",
       "        text-align: right;\n",
       "    }\n",
       "</style>\n",
       "<table border=\"1\" class=\"dataframe\">\n",
       "  <thead>\n",
       "    <tr style=\"text-align: right;\">\n",
       "      <th></th>\n",
       "      <th>Id</th>\n",
       "      <th>DistrictId</th>\n",
       "      <th>Rooms</th>\n",
       "      <th>Square</th>\n",
       "      <th>LifeSquare</th>\n",
       "      <th>KitchenSquare</th>\n",
       "      <th>Floor</th>\n",
       "      <th>HouseFloor</th>\n",
       "      <th>HouseYear</th>\n",
       "      <th>Ecology_1</th>\n",
       "      <th>Social_1</th>\n",
       "      <th>Social_2</th>\n",
       "      <th>Social_3</th>\n",
       "      <th>Healthcare_1</th>\n",
       "      <th>Helthcare_2</th>\n",
       "      <th>Shops_1</th>\n",
       "    </tr>\n",
       "  </thead>\n",
       "  <tbody>\n",
       "    <tr>\n",
       "      <th>count</th>\n",
       "      <td>9960.000000</td>\n",
       "      <td>9960.000000</td>\n",
       "      <td>9960.000000</td>\n",
       "      <td>9960.000000</td>\n",
       "      <td>9960.000000</td>\n",
       "      <td>9960.000000</td>\n",
       "      <td>9960.000000</td>\n",
       "      <td>9960.000000</td>\n",
       "      <td>9960.000000</td>\n",
       "      <td>9960.000000</td>\n",
       "      <td>9960.000000</td>\n",
       "      <td>9960.000000</td>\n",
       "      <td>9960.000000</td>\n",
       "      <td>9960.000000</td>\n",
       "      <td>9960.000000</td>\n",
       "      <td>9960.000000</td>\n",
       "    </tr>\n",
       "    <tr>\n",
       "      <th>mean</th>\n",
       "      <td>8379.926606</td>\n",
       "      <td>50.411145</td>\n",
       "      <td>1.893072</td>\n",
       "      <td>56.302166</td>\n",
       "      <td>33.772381</td>\n",
       "      <td>5.672783</td>\n",
       "      <td>7.918273</td>\n",
       "      <td>13.564358</td>\n",
       "      <td>1984.813554</td>\n",
       "      <td>0.118879</td>\n",
       "      <td>24.708534</td>\n",
       "      <td>5355.892068</td>\n",
       "      <td>8.059940</td>\n",
       "      <td>1026.427612</td>\n",
       "      <td>1.321084</td>\n",
       "      <td>4.236747</td>\n",
       "    </tr>\n",
       "    <tr>\n",
       "      <th>std</th>\n",
       "      <td>4857.445994</td>\n",
       "      <td>43.601357</td>\n",
       "      <td>0.838286</td>\n",
       "      <td>20.982950</td>\n",
       "      <td>14.378193</td>\n",
       "      <td>3.932174</td>\n",
       "      <td>5.182324</td>\n",
       "      <td>5.990055</td>\n",
       "      <td>18.375005</td>\n",
       "      <td>0.119105</td>\n",
       "      <td>17.529505</td>\n",
       "      <td>4005.959213</td>\n",
       "      <td>23.875449</td>\n",
       "      <td>747.065979</td>\n",
       "      <td>1.493339</td>\n",
       "      <td>4.809054</td>\n",
       "    </tr>\n",
       "    <tr>\n",
       "      <th>min</th>\n",
       "      <td>0.000000</td>\n",
       "      <td>0.000000</td>\n",
       "      <td>1.000000</td>\n",
       "      <td>1.136859</td>\n",
       "      <td>0.370619</td>\n",
       "      <td>0.000000</td>\n",
       "      <td>1.000000</td>\n",
       "      <td>1.000000</td>\n",
       "      <td>1912.000000</td>\n",
       "      <td>0.000000</td>\n",
       "      <td>0.000000</td>\n",
       "      <td>168.000000</td>\n",
       "      <td>0.000000</td>\n",
       "      <td>0.000000</td>\n",
       "      <td>0.000000</td>\n",
       "      <td>0.000000</td>\n",
       "    </tr>\n",
       "    <tr>\n",
       "      <th>25%</th>\n",
       "      <td>4166.750000</td>\n",
       "      <td>20.000000</td>\n",
       "      <td>1.000000</td>\n",
       "      <td>41.780320</td>\n",
       "      <td>25.445390</td>\n",
       "      <td>1.000000</td>\n",
       "      <td>4.000000</td>\n",
       "      <td>9.000000</td>\n",
       "      <td>1974.000000</td>\n",
       "      <td>0.017647</td>\n",
       "      <td>6.000000</td>\n",
       "      <td>1564.000000</td>\n",
       "      <td>0.000000</td>\n",
       "      <td>830.000000</td>\n",
       "      <td>0.000000</td>\n",
       "      <td>1.000000</td>\n",
       "    </tr>\n",
       "    <tr>\n",
       "      <th>50%</th>\n",
       "      <td>8393.500000</td>\n",
       "      <td>36.000000</td>\n",
       "      <td>2.000000</td>\n",
       "      <td>52.535437</td>\n",
       "      <td>32.781261</td>\n",
       "      <td>6.000000</td>\n",
       "      <td>7.000000</td>\n",
       "      <td>14.000000</td>\n",
       "      <td>1977.000000</td>\n",
       "      <td>0.075424</td>\n",
       "      <td>25.000000</td>\n",
       "      <td>5285.000000</td>\n",
       "      <td>2.000000</td>\n",
       "      <td>900.000000</td>\n",
       "      <td>1.000000</td>\n",
       "      <td>3.000000</td>\n",
       "    </tr>\n",
       "    <tr>\n",
       "      <th>75%</th>\n",
       "      <td>12585.250000</td>\n",
       "      <td>75.000000</td>\n",
       "      <td>2.000000</td>\n",
       "      <td>65.894297</td>\n",
       "      <td>37.715632</td>\n",
       "      <td>9.000000</td>\n",
       "      <td>11.000000</td>\n",
       "      <td>17.000000</td>\n",
       "      <td>2001.000000</td>\n",
       "      <td>0.195781</td>\n",
       "      <td>36.000000</td>\n",
       "      <td>7227.000000</td>\n",
       "      <td>5.000000</td>\n",
       "      <td>1015.000000</td>\n",
       "      <td>2.000000</td>\n",
       "      <td>6.000000</td>\n",
       "    </tr>\n",
       "    <tr>\n",
       "      <th>max</th>\n",
       "      <td>16798.000000</td>\n",
       "      <td>209.000000</td>\n",
       "      <td>19.000000</td>\n",
       "      <td>641.065186</td>\n",
       "      <td>545.562988</td>\n",
       "      <td>42.000000</td>\n",
       "      <td>42.000000</td>\n",
       "      <td>117.000000</td>\n",
       "      <td>2020.000000</td>\n",
       "      <td>0.521867</td>\n",
       "      <td>74.000000</td>\n",
       "      <td>19083.000000</td>\n",
       "      <td>141.000000</td>\n",
       "      <td>4849.000000</td>\n",
       "      <td>6.000000</td>\n",
       "      <td>23.000000</td>\n",
       "    </tr>\n",
       "  </tbody>\n",
       "</table>\n",
       "</div>"
      ],
      "text/plain": [
       "                 Id   DistrictId        Rooms       Square   LifeSquare  \\\n",
       "count   9960.000000  9960.000000  9960.000000  9960.000000  9960.000000   \n",
       "mean    8379.926606    50.411145     1.893072    56.302166    33.772381   \n",
       "std     4857.445994    43.601357     0.838286    20.982950    14.378193   \n",
       "min        0.000000     0.000000     1.000000     1.136859     0.370619   \n",
       "25%     4166.750000    20.000000     1.000000    41.780320    25.445390   \n",
       "50%     8393.500000    36.000000     2.000000    52.535437    32.781261   \n",
       "75%    12585.250000    75.000000     2.000000    65.894297    37.715632   \n",
       "max    16798.000000   209.000000    19.000000   641.065186   545.562988   \n",
       "\n",
       "       KitchenSquare        Floor   HouseFloor    HouseYear    Ecology_1  \\\n",
       "count    9960.000000  9960.000000  9960.000000  9960.000000  9960.000000   \n",
       "mean        5.672783     7.918273    13.564358  1984.813554     0.118879   \n",
       "std         3.932174     5.182324     5.990055    18.375005     0.119105   \n",
       "min         0.000000     1.000000     1.000000  1912.000000     0.000000   \n",
       "25%         1.000000     4.000000     9.000000  1974.000000     0.017647   \n",
       "50%         6.000000     7.000000    14.000000  1977.000000     0.075424   \n",
       "75%         9.000000    11.000000    17.000000  2001.000000     0.195781   \n",
       "max        42.000000    42.000000   117.000000  2020.000000     0.521867   \n",
       "\n",
       "          Social_1      Social_2     Social_3  Healthcare_1  Helthcare_2  \\\n",
       "count  9960.000000   9960.000000  9960.000000   9960.000000  9960.000000   \n",
       "mean     24.708534   5355.892068     8.059940   1026.427612     1.321084   \n",
       "std      17.529505   4005.959213    23.875449    747.065979     1.493339   \n",
       "min       0.000000    168.000000     0.000000      0.000000     0.000000   \n",
       "25%       6.000000   1564.000000     0.000000    830.000000     0.000000   \n",
       "50%      25.000000   5285.000000     2.000000    900.000000     1.000000   \n",
       "75%      36.000000   7227.000000     5.000000   1015.000000     2.000000   \n",
       "max      74.000000  19083.000000   141.000000   4849.000000     6.000000   \n",
       "\n",
       "           Shops_1  \n",
       "count  9960.000000  \n",
       "mean      4.236747  \n",
       "std       4.809054  \n",
       "min       0.000000  \n",
       "25%       1.000000  \n",
       "50%       3.000000  \n",
       "75%       6.000000  \n",
       "max      23.000000  "
      ]
     },
     "execution_count": 136,
     "metadata": {},
     "output_type": "execute_result"
    }
   ],
   "source": [
    "target = train_ds['Price']\n",
    "features = train_ds.drop('Price', axis=1)\n",
    "features.describe()"
   ]
  },
  {
   "cell_type": "markdown",
   "id": "be82af32",
   "metadata": {},
   "source": [
    "При анализе датасета были отмечено поле, имеющее уникальное значение для каждого объекта (Id).  \n",
    "Для обучения модели наличие полей такого типа не несет никакой полезной информации.  \n",
    "Удалим это поле"
   ]
  },
  {
   "cell_type": "code",
   "execution_count": 137,
   "id": "b0698e54",
   "metadata": {},
   "outputs": [],
   "source": [
    "features = features.drop('Id', axis=1)"
   ]
  },
  {
   "cell_type": "markdown",
   "id": "118541db",
   "metadata": {},
   "source": [
    "# Кодировка категориальных признаков"
   ]
  },
  {
   "cell_type": "markdown",
   "id": "71a06181",
   "metadata": {},
   "source": [
    "### Ecology_2, Ecology_3"
   ]
  },
  {
   "cell_type": "markdown",
   "id": "e2dd1bbc",
   "metadata": {},
   "source": [
    "Данные признаки возможно закодировать с использованием Label Encoder, т.к. можно сказать о том, что, чем Выше показатель (A, B, C),\n",
    "тем признак является более важным. т.е., чем лучше экология, тем квартира дороже"
   ]
  },
  {
   "cell_type": "code",
   "execution_count": 138,
   "id": "ad74d35e",
   "metadata": {},
   "outputs": [],
   "source": [
    "l_enc = LabelEncoder()\n",
    "\n",
    "features['Ecology_2'] = l_enc.fit_transform(features['Ecology_2'].values)\n",
    "features['Ecology_3'] = l_enc.fit_transform(features['Ecology_3'].values)"
   ]
  },
  {
   "cell_type": "markdown",
   "id": "bfc4ecf4",
   "metadata": {},
   "source": [
    "### Shop_2"
   ]
  },
  {
   "cell_type": "markdown",
   "id": "f4a8f6c5",
   "metadata": {},
   "source": [
    "Аналогично Ecology"
   ]
  },
  {
   "cell_type": "code",
   "execution_count": 139,
   "id": "83b59022",
   "metadata": {},
   "outputs": [],
   "source": [
    "features['Shops_2'] = l_enc.fit_transform(features['Shops_2'].values)"
   ]
  },
  {
   "cell_type": "markdown",
   "id": "f523fb27",
   "metadata": {},
   "source": [
    "## Зависимость фичей друг от друга"
   ]
  },
  {
   "cell_type": "code",
   "execution_count": 140,
   "id": "ed6381ca",
   "metadata": {},
   "outputs": [
    {
     "data": {
      "image/png": "[encoded data removed]",
      "text/plain": [
       "<Figure size 432x288 with 2 Axes>"
      ]
     },
     "metadata": {},
     "output_type": "display_data"
    }
   ],
   "source": [
    "sb.set(font_scale=0.7)\n",
    "corr_matrix = features.corr()\n",
    "corr_matrix = np.round(corr_matrix, 2)\n",
    "\n",
    "corr_matrix[np.abs(corr_matrix) < 0.3] = 0\n",
    "\n",
    "sb.heatmap(corr_matrix, annot=True, linewidth = .8, cmap='coolwarm')\n",
    "plt.show()"
   ]
  },
  {
   "cell_type": "markdown",
   "id": "689569d6",
   "metadata": {},
   "source": [
    "Наблюдаем линейную зависимость между рядом признаков. При использовании линейной модели от данной зависимости необходимо избавлять. В своей работе я буду использовать нелинейную модель."
   ]
  },
  {
   "cell_type": "markdown",
   "id": "ecd6e0b1",
   "metadata": {},
   "source": [
    "### Разбиение датасета на тренировочный и на тестовый"
   ]
  },
  {
   "cell_type": "code",
   "execution_count": 141,
   "id": "bddfad1c",
   "metadata": {},
   "outputs": [],
   "source": [
    "features_train, features_test, target_train, target_test = train_test_split(features, target, test_size=0.3, random_state=42)"
   ]
  },
  {
   "cell_type": "markdown",
   "id": "99ec3802",
   "metadata": {},
   "source": [
    "## Подбор параметров"
   ]
  },
  {
   "cell_type": "code",
   "execution_count": 142,
   "id": "2229c9df",
   "metadata": {},
   "outputs": [],
   "source": [
    "reg_model = RandomForestRegressor()"
   ]
  },
  {
   "cell_type": "code",
   "execution_count": 143,
   "id": "a0951179",
   "metadata": {},
   "outputs": [],
   "source": [
    "model_params = {\n",
    "    'n_estimators': range(10, 51, 10),\n",
    "    'max_depth': range (1,13, 2),\n",
    "    'min_samples_leaf': range (1,8),\n",
    "    'min_samples_split': range (2,10,2)\n",
    "}"
   ]
  },
  {
   "cell_type": "code",
   "execution_count": 144,
   "id": "b142094f",
   "metadata": {},
   "outputs": [],
   "source": [
    "# grid = GridSearchCV(reg_model, model_params, cv=5)\n",
    "# grid.fit(features_train, target_train)"
   ]
  },
  {
   "cell_type": "code",
   "execution_count": 145,
   "id": "753a99bc",
   "metadata": {},
   "outputs": [
    {
     "data": {
      "text/plain": [
       "{'max_depth': 11,\n",
       " 'min_samples_leaf': 1,\n",
       " 'min_samples_split': 8,\n",
       " 'n_estimators': 40}"
      ]
     },
     "execution_count": 145,
     "metadata": {},
     "output_type": "execute_result"
    }
   ],
   "source": [
    "grid.best_params_"
   ]
  },
  {
   "cell_type": "markdown",
   "id": "6f98aed4",
   "metadata": {},
   "source": [
    "## Обучение модели"
   ]
  },
  {
   "cell_type": "code",
   "execution_count": 146,
   "id": "53b0a301",
   "metadata": {},
   "outputs": [],
   "source": [
    "reg_model = RandomForestRegressor(max_depth=11, min_samples_leaf=1, min_samples_split=8, n_estimators=40)"
   ]
  },
  {
   "cell_type": "code",
   "execution_count": 147,
   "id": "538382c7",
   "metadata": {},
   "outputs": [
    {
     "data": {
      "text/plain": [
       "RandomForestRegressor(max_depth=11, min_samples_split=8, n_estimators=40)"
      ]
     },
     "execution_count": 147,
     "metadata": {},
     "output_type": "execute_result"
    }
   ],
   "source": [
    "reg_model.fit(features_train, target_train)"
   ]
  },
  {
   "cell_type": "markdown",
   "id": "54983071",
   "metadata": {},
   "source": [
    "## Предсказание на тестовом датасете"
   ]
  },
  {
   "cell_type": "code",
   "execution_count": 148,
   "id": "d8a24b3d",
   "metadata": {},
   "outputs": [],
   "source": [
    "test_prediction = reg_model.predict(features_test)"
   ]
  },
  {
   "cell_type": "code",
   "execution_count": 149,
   "id": "ccbea64f",
   "metadata": {},
   "outputs": [
    {
     "data": {
      "text/plain": [
       "0.7145660198498738"
      ]
     },
     "execution_count": 149,
     "metadata": {},
     "output_type": "execute_result"
    }
   ],
   "source": [
    "r2_score(target_test, test_prediction)"
   ]
  },
  {
   "cell_type": "markdown",
   "id": "fa6545dd",
   "metadata": {},
   "source": [
    "## Предсказание на валидационном датасете"
   ]
  },
  {
   "cell_type": "code",
   "execution_count": 152,
   "id": "75b32865",
   "metadata": {},
   "outputs": [],
   "source": [
    "fill_na(test_ds)"
   ]
  },
  {
   "cell_type": "code",
   "execution_count": 154,
   "id": "f4b211a6",
   "metadata": {},
   "outputs": [
    {
     "name": "stdout",
     "output_type": "stream",
     "text": [
      "<class 'pandas.core.frame.DataFrame'>\n",
      "RangeIndex: 5000 entries, 0 to 4999\n",
      "Data columns (total 19 columns):\n",
      " #   Column         Non-Null Count  Dtype  \n",
      "---  ------         --------------  -----  \n",
      " 0   Id             5000 non-null   int64  \n",
      " 1   DistrictId     5000 non-null   int64  \n",
      " 2   Rooms          5000 non-null   float64\n",
      " 3   Square         5000 non-null   float64\n",
      " 4   LifeSquare     5000 non-null   float64\n",
      " 5   KitchenSquare  5000 non-null   float64\n",
      " 6   Floor          5000 non-null   int64  \n",
      " 7   HouseFloor     5000 non-null   float64\n",
      " 8   HouseYear      5000 non-null   int64  \n",
      " 9   Ecology_1      5000 non-null   float64\n",
      " 10  Ecology_2      5000 non-null   object \n",
      " 11  Ecology_3      5000 non-null   object \n",
      " 12  Social_1       5000 non-null   int64  \n",
      " 13  Social_2       5000 non-null   int64  \n",
      " 14  Social_3       5000 non-null   int64  \n",
      " 15  Healthcare_1   5000 non-null   float64\n",
      " 16  Helthcare_2    5000 non-null   int64  \n",
      " 17  Shops_1        5000 non-null   int64  \n",
      " 18  Shops_2        5000 non-null   object \n",
      "dtypes: float64(7), int64(9), object(3)\n",
      "memory usage: 742.3+ KB\n"
     ]
    }
   ],
   "source": [
    "test_ds.info()"
   ]
  },
  {
   "cell_type": "code",
   "execution_count": 155,
   "id": "f37c55f3",
   "metadata": {},
   "outputs": [],
   "source": [
    "valid_id = test_ds['Id']\n",
    "test_ds = test_ds.drop('Id', axis=1)"
   ]
  },
  {
   "cell_type": "code",
   "execution_count": 156,
   "id": "e6029b85",
   "metadata": {},
   "outputs": [],
   "source": [
    "l_enc = LabelEncoder()\n",
    "\n",
    "test_ds['Ecology_2'] = l_enc.fit_transform(test_ds['Ecology_2'].values)\n",
    "test_ds['Ecology_3'] = l_enc.fit_transform(test_ds['Ecology_3'].values)\n",
    "test_ds['Shops_2'] = l_enc.fit_transform(test_ds['Shops_2'].values)"
   ]
  },
  {
   "cell_type": "code",
   "execution_count": 157,
   "id": "0f94effd",
   "metadata": {},
   "outputs": [],
   "source": [
    "valid_pred = reg_model.predict(test_ds)"
   ]
  },
  {
   "cell_type": "code",
   "execution_count": 158,
   "id": "7d1b362f",
   "metadata": {},
   "outputs": [],
   "source": [
    "result = pd.DataFrame(\n",
    "    {\n",
    "        'id': valid_id,\n",
    "        'price': valid_pred\n",
    "    }\n",
    ")"
   ]
  },
  {
   "cell_type": "code",
   "execution_count": 162,
   "id": "95bf2ac8",
   "metadata": {},
   "outputs": [],
   "source": [
    "result.to_csv(r'd:\\Обучение GeekBrains\\cp_src\\kas_result.csv', index=False)"
   ]
  },
  {
   "cell_type": "code",
   "execution_count": 161,
   "id": "94a6e883",
   "metadata": {},
   "outputs": [
    {
     "data": {
      "text/html": [
       "<div>\n",
       "<style scoped>\n",
       "    .dataframe tbody tr th:only-of-type {\n",
       "        vertical-align: middle;\n",
       "    }\n",
       "\n",
       "    .dataframe tbody tr th {\n",
       "        vertical-align: top;\n",
       "    }\n",
       "\n",
       "    .dataframe thead th {\n",
       "        text-align: right;\n",
       "    }\n",
       "</style>\n",
       "<table border=\"1\" class=\"dataframe\">\n",
       "  <thead>\n",
       "    <tr style=\"text-align: right;\">\n",
       "      <th></th>\n",
       "      <th>id</th>\n",
       "      <th>price</th>\n",
       "    </tr>\n",
       "  </thead>\n",
       "  <tbody>\n",
       "    <tr>\n",
       "      <th>0</th>\n",
       "      <td>725</td>\n",
       "      <td>156137.552000</td>\n",
       "    </tr>\n",
       "    <tr>\n",
       "      <th>1</th>\n",
       "      <td>15856</td>\n",
       "      <td>202785.347224</td>\n",
       "    </tr>\n",
       "    <tr>\n",
       "      <th>2</th>\n",
       "      <td>5480</td>\n",
       "      <td>226502.691926</td>\n",
       "    </tr>\n",
       "    <tr>\n",
       "      <th>3</th>\n",
       "      <td>15664</td>\n",
       "      <td>329187.802829</td>\n",
       "    </tr>\n",
       "    <tr>\n",
       "      <th>4</th>\n",
       "      <td>14275</td>\n",
       "      <td>136242.090634</td>\n",
       "    </tr>\n",
       "    <tr>\n",
       "      <th>...</th>\n",
       "      <td>...</td>\n",
       "      <td>...</td>\n",
       "    </tr>\n",
       "    <tr>\n",
       "      <th>4995</th>\n",
       "      <td>8180</td>\n",
       "      <td>233054.219342</td>\n",
       "    </tr>\n",
       "    <tr>\n",
       "      <th>4996</th>\n",
       "      <td>4695</td>\n",
       "      <td>120009.590973</td>\n",
       "    </tr>\n",
       "    <tr>\n",
       "      <th>4997</th>\n",
       "      <td>5783</td>\n",
       "      <td>333195.387029</td>\n",
       "    </tr>\n",
       "    <tr>\n",
       "      <th>4998</th>\n",
       "      <td>4780</td>\n",
       "      <td>202264.451867</td>\n",
       "    </tr>\n",
       "    <tr>\n",
       "      <th>4999</th>\n",
       "      <td>12504</td>\n",
       "      <td>177658.207970</td>\n",
       "    </tr>\n",
       "  </tbody>\n",
       "</table>\n",
       "<p>5000 rows × 2 columns</p>\n",
       "</div>"
      ],
      "text/plain": [
       "         id          price\n",
       "0       725  156137.552000\n",
       "1     15856  202785.347224\n",
       "2      5480  226502.691926\n",
       "3     15664  329187.802829\n",
       "4     14275  136242.090634\n",
       "...     ...            ...\n",
       "4995   8180  233054.219342\n",
       "4996   4695  120009.590973\n",
       "4997   5783  333195.387029\n",
       "4998   4780  202264.451867\n",
       "4999  12504  177658.207970\n",
       "\n",
       "[5000 rows x 2 columns]"
      ]
     },
     "execution_count": 161,
     "metadata": {},
     "output_type": "execute_result"
    }
   ],
   "source": [
    "result"
   ]
  },
  {
   "cell_type": "code",
   "execution_count": null,
   "id": "a7d11bc4",
   "metadata": {},
   "outputs": [],
   "source": []
  }
 ],
 "metadata": {
  "kernelspec": {
   "display_name": "Python 3",
   "language": "python",
   "name": "python3"
  },
  "language_info": {
   "codemirror_mode": {
    "name": "ipython",
    "version": 3
   },
   "file_extension": ".py",
   "mimetype": "text/x-python",
   "name": "python",
   "nbconvert_exporter": "python",
   "pygments_lexer": "ipython3",
   "version": "3.8.8"
  }
 },
 "nbformat": 4,
 "nbformat_minor": 5
}
